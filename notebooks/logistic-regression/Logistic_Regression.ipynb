{
 "cells": [
  {
   "cell_type": "markdown",
   "metadata": {},
   "source": [
    "## Logistic Regression"
   ]
  },
  {
   "cell_type": "markdown",
   "metadata": {},
   "source": [
    "<h6>How to generate dataset</h6>"
   ]
  },
  {
   "cell_type": "code",
   "execution_count": 44,
   "metadata": {},
   "outputs": [],
   "source": [
    "import numpy as np\n",
    "import pandas as pd\n",
    "import matplotlib.pyplot as plt"
   ]
  },
  {
   "cell_type": "code",
   "execution_count": 45,
   "metadata": {},
   "outputs": [],
   "source": [
    "mu1 = np.array([1, 2])\n",
    "mu2 = np.array([6, 8])"
   ]
  },
  {
   "cell_type": "code",
   "execution_count": 46,
   "metadata": {},
   "outputs": [],
   "source": [
    "cov1 = np.array([[.4, .1], [.1, .8]])\n",
    "cov2 = np.array([[1, .4], [.4, 1]])"
   ]
  },
  {
   "cell_type": "code",
   "execution_count": 47,
   "metadata": {},
   "outputs": [
    {
     "data": {
      "text/plain": [
       "array([[0.4, 0.1],\n",
       "       [0.1, 0.8]])"
      ]
     },
     "execution_count": 47,
     "metadata": {},
     "output_type": "execute_result"
    }
   ],
   "source": [
    "cov1"
   ]
  },
  {
   "cell_type": "code",
   "execution_count": 48,
   "metadata": {},
   "outputs": [
    {
     "data": {
      "text/plain": [
       "array([[1. , 0.4],\n",
       "       [0.4, 1. ]])"
      ]
     },
     "execution_count": 48,
     "metadata": {},
     "output_type": "execute_result"
    }
   ],
   "source": [
    "cov2"
   ]
  },
  {
   "cell_type": "code",
   "execution_count": 49,
   "metadata": {},
   "outputs": [],
   "source": [
    "X1 = np.random.multivariate_normal(mu1, cov1, 100)\n",
    "X2 = np.random.multivariate_normal(mu2, cov2, 100)"
   ]
  },
  {
   "cell_type": "code",
   "execution_count": 50,
   "metadata": {},
   "outputs": [
    {
     "data": {
      "text/plain": [
       "array([[ 1.16264976,  2.57447925],\n",
       "       [ 2.60204482,  2.40213803],\n",
       "       [ 0.90803005,  2.33452831],\n",
       "       [-0.08190222,  1.28020502],\n",
       "       [ 1.15061148,  2.30234677],\n",
       "       [ 0.51338497,  0.92542271],\n",
       "       [ 0.30292341,  1.22890803],\n",
       "       [ 0.37000611,  4.30778758],\n",
       "       [ 0.82575527,  1.98589481],\n",
       "       [ 0.37762108,  0.34779464],\n",
       "       [ 1.85866744,  1.5945414 ],\n",
       "       [ 1.23254491,  3.22811745],\n",
       "       [ 1.88709981,  2.73748794],\n",
       "       [ 0.35197185,  1.91182495],\n",
       "       [ 1.8395735 ,  1.31344712],\n",
       "       [ 1.04506503,  2.19185061],\n",
       "       [ 1.7202086 ,  2.22197754],\n",
       "       [ 0.73793689,  2.77110914],\n",
       "       [ 1.7367642 ,  2.09145145],\n",
       "       [-0.46300345,  1.24344866],\n",
       "       [ 1.26053454,  3.36084807],\n",
       "       [ 0.45527762,  0.8212083 ],\n",
       "       [ 0.16264534,  2.95749649],\n",
       "       [ 0.01944534,  1.66904854],\n",
       "       [ 1.63414377,  1.64109702],\n",
       "       [ 1.48236345,  3.19766822],\n",
       "       [ 0.13962718,  2.69007615],\n",
       "       [-0.16473638,  1.33461282],\n",
       "       [ 1.92165216,  3.669345  ],\n",
       "       [-0.65477324,  2.32674877],\n",
       "       [ 1.282158  ,  2.90944438],\n",
       "       [ 0.53637363,  1.26240398],\n",
       "       [ 0.47928478,  1.30226961],\n",
       "       [ 0.61661828,  0.16118955],\n",
       "       [ 0.37089541,  2.07705256],\n",
       "       [ 0.1669507 ,  0.34953358],\n",
       "       [ 0.56666502,  3.18279924],\n",
       "       [ 1.56336203,  3.41669444],\n",
       "       [ 1.39182659,  2.83537742],\n",
       "       [ 1.58392186,  2.03885313],\n",
       "       [ 1.69375376,  3.7751361 ],\n",
       "       [ 0.35612739,  1.10408823],\n",
       "       [ 1.81312667,  1.13644522],\n",
       "       [ 0.03023901,  1.87720742],\n",
       "       [ 1.02711326,  0.82967747],\n",
       "       [ 1.10115099,  2.85732527],\n",
       "       [ 0.9977434 ,  2.5292104 ],\n",
       "       [ 0.64402282,  2.90928759],\n",
       "       [ 0.2561121 ,  2.58248415],\n",
       "       [ 1.16893668,  1.96500134],\n",
       "       [ 0.98969559,  0.83627055],\n",
       "       [ 1.69892715,  2.33263885],\n",
       "       [ 0.43496369,  2.13412361],\n",
       "       [ 1.32530288,  0.91664984],\n",
       "       [ 1.50678335,  2.32909012],\n",
       "       [ 0.94291521,  1.82547842],\n",
       "       [ 0.20099291,  1.27740378],\n",
       "       [ 1.33114202,  1.5635794 ],\n",
       "       [ 0.54130724,  2.11195845],\n",
       "       [ 0.78779273,  1.87346493],\n",
       "       [ 1.72759576,  2.56418533],\n",
       "       [ 0.33509294,  1.66743298],\n",
       "       [ 0.73061948,  2.31011802],\n",
       "       [ 1.09575783,  1.72959408],\n",
       "       [ 1.9064213 ,  1.36222099],\n",
       "       [ 1.12197675,  2.60519943],\n",
       "       [ 1.22047675,  1.18825272],\n",
       "       [ 0.59709394,  1.64653654],\n",
       "       [ 1.36329985,  1.45377101],\n",
       "       [ 0.61822   ,  2.33969312],\n",
       "       [ 1.1795654 ,  2.52876059],\n",
       "       [ 1.68984521,  2.0748052 ],\n",
       "       [-0.21528714,  0.93640273],\n",
       "       [ 1.67256706,  1.33449523],\n",
       "       [ 2.13974819,  2.50471898],\n",
       "       [ 1.77374595,  2.96772698],\n",
       "       [ 1.17599699,  2.75179388],\n",
       "       [ 0.27607072,  1.01708917],\n",
       "       [ 1.66150256,  1.79569478],\n",
       "       [ 1.79451694,  1.00008649],\n",
       "       [ 1.93776706,  1.96917246],\n",
       "       [ 1.36163039,  1.91098272],\n",
       "       [ 1.15008806,  1.49441883],\n",
       "       [ 1.96232572,  1.55147111],\n",
       "       [ 0.80255676,  1.22845873],\n",
       "       [ 0.68118058,  1.87546718],\n",
       "       [ 0.27938446,  2.85810766],\n",
       "       [ 1.01135781,  2.34230784],\n",
       "       [ 1.45744148,  2.4156297 ],\n",
       "       [ 0.35047649,  0.30781271],\n",
       "       [ 2.64842735,  3.97440538],\n",
       "       [ 0.05214196,  2.37407221],\n",
       "       [-0.0328632 ,  2.53277839],\n",
       "       [ 0.80156985,  0.60252252],\n",
       "       [ 0.57688939,  2.33013576],\n",
       "       [ 0.65914352,  2.73033444],\n",
       "       [ 1.31325502,  1.88751001],\n",
       "       [ 0.51684739,  1.27608545],\n",
       "       [ 0.81205257,  1.09300203],\n",
       "       [ 0.39864622,  1.47883258]])"
      ]
     },
     "execution_count": 50,
     "metadata": {},
     "output_type": "execute_result"
    }
   ],
   "source": [
    "X1"
   ]
  },
  {
   "cell_type": "code",
   "execution_count": 51,
   "metadata": {},
   "outputs": [
    {
     "data": {
      "text/plain": [
       "(100, 2)"
      ]
     },
     "execution_count": 51,
     "metadata": {},
     "output_type": "execute_result"
    }
   ],
   "source": [
    "X1.shape"
   ]
  },
  {
   "cell_type": "code",
   "execution_count": 52,
   "metadata": {},
   "outputs": [
    {
     "data": {
      "text/plain": [
       "array([[ 5.90754831,  7.03596719],\n",
       "       [ 5.07448473,  6.81457206],\n",
       "       [ 6.33228071,  6.76411872],\n",
       "       [ 6.57397436,  7.35111034],\n",
       "       [ 5.18304509,  7.60050524],\n",
       "       [ 5.58468576,  6.85645655],\n",
       "       [ 5.6127258 ,  8.71234695],\n",
       "       [ 4.87465197,  7.29640777],\n",
       "       [ 5.97507088,  6.64719569],\n",
       "       [ 5.92673461,  7.25209139],\n",
       "       [ 7.76207378,  9.21407908],\n",
       "       [ 4.74174639,  7.8097407 ],\n",
       "       [ 6.83235976,  8.76137723],\n",
       "       [ 5.85675003,  7.95211827],\n",
       "       [ 6.44259613,  9.85967768],\n",
       "       [ 6.39231499,  7.59312749],\n",
       "       [ 6.95863703,  7.90693034],\n",
       "       [ 6.4331658 ,  7.48517262],\n",
       "       [ 6.55496292,  5.1962703 ],\n",
       "       [ 6.32143877,  8.8655337 ],\n",
       "       [ 7.19379098,  8.77865484],\n",
       "       [ 7.24871225, 10.20197263],\n",
       "       [ 4.28572706,  7.82325581],\n",
       "       [ 7.34388686,  7.89016942],\n",
       "       [ 7.6580268 ,  7.16098887],\n",
       "       [ 7.1972385 ,  9.07673811],\n",
       "       [ 8.42797999,  8.85632628],\n",
       "       [ 5.77609798,  7.87480939],\n",
       "       [ 5.2270415 ,  8.84363009],\n",
       "       [ 6.40558647,  8.44408074],\n",
       "       [ 5.87723214,  8.59386932],\n",
       "       [ 5.49976703,  7.32033793],\n",
       "       [ 5.42500736, 10.15713433],\n",
       "       [ 7.04538523,  7.33974003],\n",
       "       [ 6.13704414,  7.12916196],\n",
       "       [ 5.60909404,  8.65876286],\n",
       "       [ 5.90808291,  7.77299212],\n",
       "       [ 6.99869326,  7.09309781],\n",
       "       [ 8.28622561,  9.59860712],\n",
       "       [ 6.40674619,  8.75817059],\n",
       "       [ 6.64851881,  7.02617781],\n",
       "       [ 6.73398317,  7.88025628],\n",
       "       [ 5.95483245,  6.78798227],\n",
       "       [ 5.85694081,  6.7304422 ],\n",
       "       [ 5.12653682,  8.45482421],\n",
       "       [ 6.18617678,  7.54728867],\n",
       "       [ 5.29082305,  8.64074112],\n",
       "       [ 7.09835374,  8.15598402],\n",
       "       [ 5.3395669 ,  7.59671546],\n",
       "       [ 5.46563731,  8.37697724],\n",
       "       [ 6.384918  ,  6.04773761],\n",
       "       [ 4.85323578,  5.95697617],\n",
       "       [ 6.86159186,  8.43856446],\n",
       "       [ 3.49332556,  8.1828487 ],\n",
       "       [ 5.36145331,  7.63943677],\n",
       "       [ 5.50349592,  7.01004475],\n",
       "       [ 4.93054751,  8.17600198],\n",
       "       [ 6.78497207,  9.32620565],\n",
       "       [ 7.17050135,  7.55369917],\n",
       "       [ 5.69534623,  6.81870422],\n",
       "       [ 6.72073775,  7.33234577],\n",
       "       [ 7.20554636,  9.03720431],\n",
       "       [ 7.50979088,  9.10227861],\n",
       "       [ 6.69702645,  6.33351865],\n",
       "       [ 7.04014992, 10.15525333],\n",
       "       [ 7.35164588,  7.09178864],\n",
       "       [ 5.18883777,  7.84474597],\n",
       "       [ 6.84949763,  8.29924477],\n",
       "       [ 7.58314552,  8.53408171],\n",
       "       [ 9.04139943,  9.48641776],\n",
       "       [ 5.36281492,  7.58683576],\n",
       "       [ 6.61583346,  8.76530714],\n",
       "       [ 5.40675839,  6.39360878],\n",
       "       [ 6.6521021 ,  7.93464508],\n",
       "       [ 6.13536931,  9.30913174],\n",
       "       [ 5.75803761,  7.81560411],\n",
       "       [ 5.72819577,  8.58826941],\n",
       "       [ 4.62075   ,  6.62970559],\n",
       "       [ 6.0690462 ,  7.32628085],\n",
       "       [ 6.82771637,  8.60867836],\n",
       "       [ 5.4287663 ,  8.50364666],\n",
       "       [ 4.62100212,  6.6153097 ],\n",
       "       [ 5.73752933,  7.73216411],\n",
       "       [ 5.4770246 ,  7.21988936],\n",
       "       [ 5.42046384,  8.59444198],\n",
       "       [ 5.44887224,  6.92694735],\n",
       "       [ 5.16385735,  7.81613212],\n",
       "       [ 5.32776938,  7.26871866],\n",
       "       [ 6.12627245,  9.81942837],\n",
       "       [ 6.2285586 ,  6.24439638],\n",
       "       [ 5.07840788,  7.66427374],\n",
       "       [ 4.04419994,  5.99388073],\n",
       "       [ 5.36915468,  7.09912922],\n",
       "       [ 6.05608988,  7.88234418],\n",
       "       [ 5.27344687,  7.83295463],\n",
       "       [ 6.70657167,  7.17123737],\n",
       "       [ 4.6519034 ,  7.46541459],\n",
       "       [ 6.10224275,  8.25002826],\n",
       "       [ 7.68543998,  9.60291765],\n",
       "       [ 6.37434515,  8.39969832]])"
      ]
     },
     "execution_count": 52,
     "metadata": {},
     "output_type": "execute_result"
    }
   ],
   "source": [
    "X2"
   ]
  },
  {
   "cell_type": "code",
   "execution_count": 53,
   "metadata": {},
   "outputs": [
    {
     "data": {
      "text/plain": [
       "(100, 2)"
      ]
     },
     "execution_count": 53,
     "metadata": {},
     "output_type": "execute_result"
    }
   ],
   "source": [
    "X2.shape"
   ]
  },
  {
   "cell_type": "code",
   "execution_count": 55,
   "metadata": {},
   "outputs": [
    {
     "data": {
      "text/plain": [
       "<matplotlib.collections.PathCollection at 0x1be2e5e0808>"
      ]
     },
     "execution_count": 55,
     "metadata": {},
     "output_type": "execute_result"
    },
    {
     "data": {
      "image/png": "[encoded data removed]",
      "text/plain": [
       "<Figure size 432x288 with 1 Axes>"
      ]
     },
     "metadata": {
      "needs_background": "light"
     },
     "output_type": "display_data"
    }
   ],
   "source": [
    "plt.scatter(X1[:,0], X1[:,1])\n",
    "plt.scatter(X2[:,0], X2[:,1])"
   ]
  },
  {
   "cell_type": "code",
   "execution_count": 56,
   "metadata": {},
   "outputs": [],
   "source": [
    "y1 = np.ones((100,))\n",
    "y2 = np.zeros((100,))"
   ]
  },
  {
   "cell_type": "code",
   "execution_count": 57,
   "metadata": {},
   "outputs": [
    {
     "data": {
      "text/plain": [
       "array([1., 1., 1., 1., 1., 1., 1., 1., 1., 1., 1., 1., 1., 1., 1., 1., 1.,\n",
       "       1., 1., 1., 1., 1., 1., 1., 1., 1., 1., 1., 1., 1., 1., 1., 1., 1.,\n",
       "       1., 1., 1., 1., 1., 1., 1., 1., 1., 1., 1., 1., 1., 1., 1., 1., 1.,\n",
       "       1., 1., 1., 1., 1., 1., 1., 1., 1., 1., 1., 1., 1., 1., 1., 1., 1.,\n",
       "       1., 1., 1., 1., 1., 1., 1., 1., 1., 1., 1., 1., 1., 1., 1., 1., 1.,\n",
       "       1., 1., 1., 1., 1., 1., 1., 1., 1., 1., 1., 1., 1., 1., 1.])"
      ]
     },
     "execution_count": 57,
     "metadata": {},
     "output_type": "execute_result"
    }
   ],
   "source": [
    "y1"
   ]
  },
  {
   "cell_type": "code",
   "execution_count": 58,
   "metadata": {},
   "outputs": [
    {
     "data": {
      "text/plain": [
       "array([0., 0., 0., 0., 0., 0., 0., 0., 0., 0., 0., 0., 0., 0., 0., 0., 0.,\n",
       "       0., 0., 0., 0., 0., 0., 0., 0., 0., 0., 0., 0., 0., 0., 0., 0., 0.,\n",
       "       0., 0., 0., 0., 0., 0., 0., 0., 0., 0., 0., 0., 0., 0., 0., 0., 0.,\n",
       "       0., 0., 0., 0., 0., 0., 0., 0., 0., 0., 0., 0., 0., 0., 0., 0., 0.,\n",
       "       0., 0., 0., 0., 0., 0., 0., 0., 0., 0., 0., 0., 0., 0., 0., 0., 0.,\n",
       "       0., 0., 0., 0., 0., 0., 0., 0., 0., 0., 0., 0., 0., 0., 0.])"
      ]
     },
     "execution_count": 58,
     "metadata": {},
     "output_type": "execute_result"
    }
   ],
   "source": [
    "y2"
   ]
  },
  {
   "cell_type": "code",
   "execution_count": 59,
   "metadata": {},
   "outputs": [
    {
     "data": {
      "text/plain": [
       "(100,)"
      ]
     },
     "execution_count": 59,
     "metadata": {},
     "output_type": "execute_result"
    }
   ],
   "source": [
    "y1.shape"
   ]
  },
  {
   "cell_type": "code",
   "execution_count": 60,
   "metadata": {},
   "outputs": [
    {
     "data": {
      "text/plain": [
       "(100,)"
      ]
     },
     "execution_count": 60,
     "metadata": {},
     "output_type": "execute_result"
    }
   ],
   "source": [
    "y2.shape"
   ]
  },
  {
   "cell_type": "code",
   "execution_count": 61,
   "metadata": {},
   "outputs": [],
   "source": [
    "data = np.zeros((200, 3))"
   ]
  },
  {
   "cell_type": "code",
   "execution_count": 62,
   "metadata": {},
   "outputs": [
    {
     "data": {
      "text/plain": [
       "(100,)"
      ]
     },
     "execution_count": 62,
     "metadata": {},
     "output_type": "execute_result"
    }
   ],
   "source": [
    "data[:100,2].shape"
   ]
  },
  {
   "cell_type": "code",
   "execution_count": 63,
   "metadata": {},
   "outputs": [
    {
     "data": {
      "text/plain": [
       "(200, 3)"
      ]
     },
     "execution_count": 63,
     "metadata": {},
     "output_type": "execute_result"
    }
   ],
   "source": [
    "data.shape"
   ]
  },
  {
   "cell_type": "code",
   "execution_count": 64,
   "metadata": {},
   "outputs": [
    {
     "data": {
      "text/plain": [
       "array([[0., 0., 0.],\n",
       "       [0., 0., 0.],\n",
       "       [0., 0., 0.],\n",
       "       [0., 0., 0.],\n",
       "       [0., 0., 0.],\n",
       "       [0., 0., 0.],\n",
       "       [0., 0., 0.],\n",
       "       [0., 0., 0.],\n",
       "       [0., 0., 0.],\n",
       "       [0., 0., 0.],\n",
       "       [0., 0., 0.],\n",
       "       [0., 0., 0.],\n",
       "       [0., 0., 0.],\n",
       "       [0., 0., 0.],\n",
       "       [0., 0., 0.],\n",
       "       [0., 0., 0.],\n",
       "       [0., 0., 0.],\n",
       "       [0., 0., 0.],\n",
       "       [0., 0., 0.],\n",
       "       [0., 0., 0.],\n",
       "       [0., 0., 0.],\n",
       "       [0., 0., 0.],\n",
       "       [0., 0., 0.],\n",
       "       [0., 0., 0.],\n",
       "       [0., 0., 0.],\n",
       "       [0., 0., 0.],\n",
       "       [0., 0., 0.],\n",
       "       [0., 0., 0.],\n",
       "       [0., 0., 0.],\n",
       "       [0., 0., 0.],\n",
       "       [0., 0., 0.],\n",
       "       [0., 0., 0.],\n",
       "       [0., 0., 0.],\n",
       "       [0., 0., 0.],\n",
       "       [0., 0., 0.],\n",
       "       [0., 0., 0.],\n",
       "       [0., 0., 0.],\n",
       "       [0., 0., 0.],\n",
       "       [0., 0., 0.],\n",
       "       [0., 0., 0.],\n",
       "       [0., 0., 0.],\n",
       "       [0., 0., 0.],\n",
       "       [0., 0., 0.],\n",
       "       [0., 0., 0.],\n",
       "       [0., 0., 0.],\n",
       "       [0., 0., 0.],\n",
       "       [0., 0., 0.],\n",
       "       [0., 0., 0.],\n",
       "       [0., 0., 0.],\n",
       "       [0., 0., 0.],\n",
       "       [0., 0., 0.],\n",
       "       [0., 0., 0.],\n",
       "       [0., 0., 0.],\n",
       "       [0., 0., 0.],\n",
       "       [0., 0., 0.],\n",
       "       [0., 0., 0.],\n",
       "       [0., 0., 0.],\n",
       "       [0., 0., 0.],\n",
       "       [0., 0., 0.],\n",
       "       [0., 0., 0.],\n",
       "       [0., 0., 0.],\n",
       "       [0., 0., 0.],\n",
       "       [0., 0., 0.],\n",
       "       [0., 0., 0.],\n",
       "       [0., 0., 0.],\n",
       "       [0., 0., 0.],\n",
       "       [0., 0., 0.],\n",
       "       [0., 0., 0.],\n",
       "       [0., 0., 0.],\n",
       "       [0., 0., 0.],\n",
       "       [0., 0., 0.],\n",
       "       [0., 0., 0.],\n",
       "       [0., 0., 0.],\n",
       "       [0., 0., 0.],\n",
       "       [0., 0., 0.],\n",
       "       [0., 0., 0.],\n",
       "       [0., 0., 0.],\n",
       "       [0., 0., 0.],\n",
       "       [0., 0., 0.],\n",
       "       [0., 0., 0.],\n",
       "       [0., 0., 0.],\n",
       "       [0., 0., 0.],\n",
       "       [0., 0., 0.],\n",
       "       [0., 0., 0.],\n",
       "       [0., 0., 0.],\n",
       "       [0., 0., 0.],\n",
       "       [0., 0., 0.],\n",
       "       [0., 0., 0.],\n",
       "       [0., 0., 0.],\n",
       "       [0., 0., 0.],\n",
       "       [0., 0., 0.],\n",
       "       [0., 0., 0.],\n",
       "       [0., 0., 0.],\n",
       "       [0., 0., 0.],\n",
       "       [0., 0., 0.],\n",
       "       [0., 0., 0.],\n",
       "       [0., 0., 0.],\n",
       "       [0., 0., 0.],\n",
       "       [0., 0., 0.],\n",
       "       [0., 0., 0.],\n",
       "       [0., 0., 0.],\n",
       "       [0., 0., 0.],\n",
       "       [0., 0., 0.],\n",
       "       [0., 0., 0.],\n",
       "       [0., 0., 0.],\n",
       "       [0., 0., 0.],\n",
       "       [0., 0., 0.],\n",
       "       [0., 0., 0.],\n",
       "       [0., 0., 0.],\n",
       "       [0., 0., 0.],\n",
       "       [0., 0., 0.],\n",
       "       [0., 0., 0.],\n",
       "       [0., 0., 0.],\n",
       "       [0., 0., 0.],\n",
       "       [0., 0., 0.],\n",
       "       [0., 0., 0.],\n",
       "       [0., 0., 0.],\n",
       "       [0., 0., 0.],\n",
       "       [0., 0., 0.],\n",
       "       [0., 0., 0.],\n",
       "       [0., 0., 0.],\n",
       "       [0., 0., 0.],\n",
       "       [0., 0., 0.],\n",
       "       [0., 0., 0.],\n",
       "       [0., 0., 0.],\n",
       "       [0., 0., 0.],\n",
       "       [0., 0., 0.],\n",
       "       [0., 0., 0.],\n",
       "       [0., 0., 0.],\n",
       "       [0., 0., 0.],\n",
       "       [0., 0., 0.],\n",
       "       [0., 0., 0.],\n",
       "       [0., 0., 0.],\n",
       "       [0., 0., 0.],\n",
       "       [0., 0., 0.],\n",
       "       [0., 0., 0.],\n",
       "       [0., 0., 0.],\n",
       "       [0., 0., 0.],\n",
       "       [0., 0., 0.],\n",
       "       [0., 0., 0.],\n",
       "       [0., 0., 0.],\n",
       "       [0., 0., 0.],\n",
       "       [0., 0., 0.],\n",
       "       [0., 0., 0.],\n",
       "       [0., 0., 0.],\n",
       "       [0., 0., 0.],\n",
       "       [0., 0., 0.],\n",
       "       [0., 0., 0.],\n",
       "       [0., 0., 0.],\n",
       "       [0., 0., 0.],\n",
       "       [0., 0., 0.],\n",
       "       [0., 0., 0.],\n",
       "       [0., 0., 0.],\n",
       "       [0., 0., 0.],\n",
       "       [0., 0., 0.],\n",
       "       [0., 0., 0.],\n",
       "       [0., 0., 0.],\n",
       "       [0., 0., 0.],\n",
       "       [0., 0., 0.],\n",
       "       [0., 0., 0.],\n",
       "       [0., 0., 0.],\n",
       "       [0., 0., 0.],\n",
       "       [0., 0., 0.],\n",
       "       [0., 0., 0.],\n",
       "       [0., 0., 0.],\n",
       "       [0., 0., 0.],\n",
       "       [0., 0., 0.],\n",
       "       [0., 0., 0.],\n",
       "       [0., 0., 0.],\n",
       "       [0., 0., 0.],\n",
       "       [0., 0., 0.],\n",
       "       [0., 0., 0.],\n",
       "       [0., 0., 0.],\n",
       "       [0., 0., 0.],\n",
       "       [0., 0., 0.],\n",
       "       [0., 0., 0.],\n",
       "       [0., 0., 0.],\n",
       "       [0., 0., 0.],\n",
       "       [0., 0., 0.],\n",
       "       [0., 0., 0.],\n",
       "       [0., 0., 0.],\n",
       "       [0., 0., 0.],\n",
       "       [0., 0., 0.],\n",
       "       [0., 0., 0.],\n",
       "       [0., 0., 0.],\n",
       "       [0., 0., 0.],\n",
       "       [0., 0., 0.],\n",
       "       [0., 0., 0.],\n",
       "       [0., 0., 0.],\n",
       "       [0., 0., 0.],\n",
       "       [0., 0., 0.],\n",
       "       [0., 0., 0.],\n",
       "       [0., 0., 0.],\n",
       "       [0., 0., 0.],\n",
       "       [0., 0., 0.],\n",
       "       [0., 0., 0.],\n",
       "       [0., 0., 0.],\n",
       "       [0., 0., 0.],\n",
       "       [0., 0., 0.],\n",
       "       [0., 0., 0.]])"
      ]
     },
     "execution_count": 64,
     "metadata": {},
     "output_type": "execute_result"
    }
   ],
   "source": [
    "data"
   ]
  },
  {
   "cell_type": "code",
   "execution_count": 65,
   "metadata": {},
   "outputs": [],
   "source": [
    "data[:100, :-1] = X1\n",
    "data[100:, :-1] = X2\n",
    "data[:100, 2] = y1"
   ]
  },
  {
   "cell_type": "code",
   "execution_count": 66,
   "metadata": {},
   "outputs": [
    {
     "data": {
      "text/plain": [
       "array([[ 1.16264976,  2.57447925,  1.        ],\n",
       "       [ 2.60204482,  2.40213803,  1.        ],\n",
       "       [ 0.90803005,  2.33452831,  1.        ],\n",
       "       [-0.08190222,  1.28020502,  1.        ],\n",
       "       [ 1.15061148,  2.30234677,  1.        ],\n",
       "       [ 0.51338497,  0.92542271,  1.        ],\n",
       "       [ 0.30292341,  1.22890803,  1.        ],\n",
       "       [ 0.37000611,  4.30778758,  1.        ],\n",
       "       [ 0.82575527,  1.98589481,  1.        ],\n",
       "       [ 0.37762108,  0.34779464,  1.        ],\n",
       "       [ 1.85866744,  1.5945414 ,  1.        ],\n",
       "       [ 1.23254491,  3.22811745,  1.        ],\n",
       "       [ 1.88709981,  2.73748794,  1.        ],\n",
       "       [ 0.35197185,  1.91182495,  1.        ],\n",
       "       [ 1.8395735 ,  1.31344712,  1.        ],\n",
       "       [ 1.04506503,  2.19185061,  1.        ],\n",
       "       [ 1.7202086 ,  2.22197754,  1.        ],\n",
       "       [ 0.73793689,  2.77110914,  1.        ],\n",
       "       [ 1.7367642 ,  2.09145145,  1.        ],\n",
       "       [-0.46300345,  1.24344866,  1.        ],\n",
       "       [ 1.26053454,  3.36084807,  1.        ],\n",
       "       [ 0.45527762,  0.8212083 ,  1.        ],\n",
       "       [ 0.16264534,  2.95749649,  1.        ],\n",
       "       [ 0.01944534,  1.66904854,  1.        ],\n",
       "       [ 1.63414377,  1.64109702,  1.        ],\n",
       "       [ 1.48236345,  3.19766822,  1.        ],\n",
       "       [ 0.13962718,  2.69007615,  1.        ],\n",
       "       [-0.16473638,  1.33461282,  1.        ],\n",
       "       [ 1.92165216,  3.669345  ,  1.        ],\n",
       "       [-0.65477324,  2.32674877,  1.        ],\n",
       "       [ 1.282158  ,  2.90944438,  1.        ],\n",
       "       [ 0.53637363,  1.26240398,  1.        ],\n",
       "       [ 0.47928478,  1.30226961,  1.        ],\n",
       "       [ 0.61661828,  0.16118955,  1.        ],\n",
       "       [ 0.37089541,  2.07705256,  1.        ],\n",
       "       [ 0.1669507 ,  0.34953358,  1.        ],\n",
       "       [ 0.56666502,  3.18279924,  1.        ],\n",
       "       [ 1.56336203,  3.41669444,  1.        ],\n",
       "       [ 1.39182659,  2.83537742,  1.        ],\n",
       "       [ 1.58392186,  2.03885313,  1.        ],\n",
       "       [ 1.69375376,  3.7751361 ,  1.        ],\n",
       "       [ 0.35612739,  1.10408823,  1.        ],\n",
       "       [ 1.81312667,  1.13644522,  1.        ],\n",
       "       [ 0.03023901,  1.87720742,  1.        ],\n",
       "       [ 1.02711326,  0.82967747,  1.        ],\n",
       "       [ 1.10115099,  2.85732527,  1.        ],\n",
       "       [ 0.9977434 ,  2.5292104 ,  1.        ],\n",
       "       [ 0.64402282,  2.90928759,  1.        ],\n",
       "       [ 0.2561121 ,  2.58248415,  1.        ],\n",
       "       [ 1.16893668,  1.96500134,  1.        ],\n",
       "       [ 0.98969559,  0.83627055,  1.        ],\n",
       "       [ 1.69892715,  2.33263885,  1.        ],\n",
       "       [ 0.43496369,  2.13412361,  1.        ],\n",
       "       [ 1.32530288,  0.91664984,  1.        ],\n",
       "       [ 1.50678335,  2.32909012,  1.        ],\n",
       "       [ 0.94291521,  1.82547842,  1.        ],\n",
       "       [ 0.20099291,  1.27740378,  1.        ],\n",
       "       [ 1.33114202,  1.5635794 ,  1.        ],\n",
       "       [ 0.54130724,  2.11195845,  1.        ],\n",
       "       [ 0.78779273,  1.87346493,  1.        ],\n",
       "       [ 1.72759576,  2.56418533,  1.        ],\n",
       "       [ 0.33509294,  1.66743298,  1.        ],\n",
       "       [ 0.73061948,  2.31011802,  1.        ],\n",
       "       [ 1.09575783,  1.72959408,  1.        ],\n",
       "       [ 1.9064213 ,  1.36222099,  1.        ],\n",
       "       [ 1.12197675,  2.60519943,  1.        ],\n",
       "       [ 1.22047675,  1.18825272,  1.        ],\n",
       "       [ 0.59709394,  1.64653654,  1.        ],\n",
       "       [ 1.36329985,  1.45377101,  1.        ],\n",
       "       [ 0.61822   ,  2.33969312,  1.        ],\n",
       "       [ 1.1795654 ,  2.52876059,  1.        ],\n",
       "       [ 1.68984521,  2.0748052 ,  1.        ],\n",
       "       [-0.21528714,  0.93640273,  1.        ],\n",
       "       [ 1.67256706,  1.33449523,  1.        ],\n",
       "       [ 2.13974819,  2.50471898,  1.        ],\n",
       "       [ 1.77374595,  2.96772698,  1.        ],\n",
       "       [ 1.17599699,  2.75179388,  1.        ],\n",
       "       [ 0.27607072,  1.01708917,  1.        ],\n",
       "       [ 1.66150256,  1.79569478,  1.        ],\n",
       "       [ 1.79451694,  1.00008649,  1.        ],\n",
       "       [ 1.93776706,  1.96917246,  1.        ],\n",
       "       [ 1.36163039,  1.91098272,  1.        ],\n",
       "       [ 1.15008806,  1.49441883,  1.        ],\n",
       "       [ 1.96232572,  1.55147111,  1.        ],\n",
       "       [ 0.80255676,  1.22845873,  1.        ],\n",
       "       [ 0.68118058,  1.87546718,  1.        ],\n",
       "       [ 0.27938446,  2.85810766,  1.        ],\n",
       "       [ 1.01135781,  2.34230784,  1.        ],\n",
       "       [ 1.45744148,  2.4156297 ,  1.        ],\n",
       "       [ 0.35047649,  0.30781271,  1.        ],\n",
       "       [ 2.64842735,  3.97440538,  1.        ],\n",
       "       [ 0.05214196,  2.37407221,  1.        ],\n",
       "       [-0.0328632 ,  2.53277839,  1.        ],\n",
       "       [ 0.80156985,  0.60252252,  1.        ],\n",
       "       [ 0.57688939,  2.33013576,  1.        ],\n",
       "       [ 0.65914352,  2.73033444,  1.        ],\n",
       "       [ 1.31325502,  1.88751001,  1.        ],\n",
       "       [ 0.51684739,  1.27608545,  1.        ],\n",
       "       [ 0.81205257,  1.09300203,  1.        ],\n",
       "       [ 0.39864622,  1.47883258,  1.        ],\n",
       "       [ 5.90754831,  7.03596719,  0.        ],\n",
       "       [ 5.07448473,  6.81457206,  0.        ],\n",
       "       [ 6.33228071,  6.76411872,  0.        ],\n",
       "       [ 6.57397436,  7.35111034,  0.        ],\n",
       "       [ 5.18304509,  7.60050524,  0.        ],\n",
       "       [ 5.58468576,  6.85645655,  0.        ],\n",
       "       [ 5.6127258 ,  8.71234695,  0.        ],\n",
       "       [ 4.87465197,  7.29640777,  0.        ],\n",
       "       [ 5.97507088,  6.64719569,  0.        ],\n",
       "       [ 5.92673461,  7.25209139,  0.        ],\n",
       "       [ 7.76207378,  9.21407908,  0.        ],\n",
       "       [ 4.74174639,  7.8097407 ,  0.        ],\n",
       "       [ 6.83235976,  8.76137723,  0.        ],\n",
       "       [ 5.85675003,  7.95211827,  0.        ],\n",
       "       [ 6.44259613,  9.85967768,  0.        ],\n",
       "       [ 6.39231499,  7.59312749,  0.        ],\n",
       "       [ 6.95863703,  7.90693034,  0.        ],\n",
       "       [ 6.4331658 ,  7.48517262,  0.        ],\n",
       "       [ 6.55496292,  5.1962703 ,  0.        ],\n",
       "       [ 6.32143877,  8.8655337 ,  0.        ],\n",
       "       [ 7.19379098,  8.77865484,  0.        ],\n",
       "       [ 7.24871225, 10.20197263,  0.        ],\n",
       "       [ 4.28572706,  7.82325581,  0.        ],\n",
       "       [ 7.34388686,  7.89016942,  0.        ],\n",
       "       [ 7.6580268 ,  7.16098887,  0.        ],\n",
       "       [ 7.1972385 ,  9.07673811,  0.        ],\n",
       "       [ 8.42797999,  8.85632628,  0.        ],\n",
       "       [ 5.77609798,  7.87480939,  0.        ],\n",
       "       [ 5.2270415 ,  8.84363009,  0.        ],\n",
       "       [ 6.40558647,  8.44408074,  0.        ],\n",
       "       [ 5.87723214,  8.59386932,  0.        ],\n",
       "       [ 5.49976703,  7.32033793,  0.        ],\n",
       "       [ 5.42500736, 10.15713433,  0.        ],\n",
       "       [ 7.04538523,  7.33974003,  0.        ],\n",
       "       [ 6.13704414,  7.12916196,  0.        ],\n",
       "       [ 5.60909404,  8.65876286,  0.        ],\n",
       "       [ 5.90808291,  7.77299212,  0.        ],\n",
       "       [ 6.99869326,  7.09309781,  0.        ],\n",
       "       [ 8.28622561,  9.59860712,  0.        ],\n",
       "       [ 6.40674619,  8.75817059,  0.        ],\n",
       "       [ 6.64851881,  7.02617781,  0.        ],\n",
       "       [ 6.73398317,  7.88025628,  0.        ],\n",
       "       [ 5.95483245,  6.78798227,  0.        ],\n",
       "       [ 5.85694081,  6.7304422 ,  0.        ],\n",
       "       [ 5.12653682,  8.45482421,  0.        ],\n",
       "       [ 6.18617678,  7.54728867,  0.        ],\n",
       "       [ 5.29082305,  8.64074112,  0.        ],\n",
       "       [ 7.09835374,  8.15598402,  0.        ],\n",
       "       [ 5.3395669 ,  7.59671546,  0.        ],\n",
       "       [ 5.46563731,  8.37697724,  0.        ],\n",
       "       [ 6.384918  ,  6.04773761,  0.        ],\n",
       "       [ 4.85323578,  5.95697617,  0.        ],\n",
       "       [ 6.86159186,  8.43856446,  0.        ],\n",
       "       [ 3.49332556,  8.1828487 ,  0.        ],\n",
       "       [ 5.36145331,  7.63943677,  0.        ],\n",
       "       [ 5.50349592,  7.01004475,  0.        ],\n",
       "       [ 4.93054751,  8.17600198,  0.        ],\n",
       "       [ 6.78497207,  9.32620565,  0.        ],\n",
       "       [ 7.17050135,  7.55369917,  0.        ],\n",
       "       [ 5.69534623,  6.81870422,  0.        ],\n",
       "       [ 6.72073775,  7.33234577,  0.        ],\n",
       "       [ 7.20554636,  9.03720431,  0.        ],\n",
       "       [ 7.50979088,  9.10227861,  0.        ],\n",
       "       [ 6.69702645,  6.33351865,  0.        ],\n",
       "       [ 7.04014992, 10.15525333,  0.        ],\n",
       "       [ 7.35164588,  7.09178864,  0.        ],\n",
       "       [ 5.18883777,  7.84474597,  0.        ],\n",
       "       [ 6.84949763,  8.29924477,  0.        ],\n",
       "       [ 7.58314552,  8.53408171,  0.        ],\n",
       "       [ 9.04139943,  9.48641776,  0.        ],\n",
       "       [ 5.36281492,  7.58683576,  0.        ],\n",
       "       [ 6.61583346,  8.76530714,  0.        ],\n",
       "       [ 5.40675839,  6.39360878,  0.        ],\n",
       "       [ 6.6521021 ,  7.93464508,  0.        ],\n",
       "       [ 6.13536931,  9.30913174,  0.        ],\n",
       "       [ 5.75803761,  7.81560411,  0.        ],\n",
       "       [ 5.72819577,  8.58826941,  0.        ],\n",
       "       [ 4.62075   ,  6.62970559,  0.        ],\n",
       "       [ 6.0690462 ,  7.32628085,  0.        ],\n",
       "       [ 6.82771637,  8.60867836,  0.        ],\n",
       "       [ 5.4287663 ,  8.50364666,  0.        ],\n",
       "       [ 4.62100212,  6.6153097 ,  0.        ],\n",
       "       [ 5.73752933,  7.73216411,  0.        ],\n",
       "       [ 5.4770246 ,  7.21988936,  0.        ],\n",
       "       [ 5.42046384,  8.59444198,  0.        ],\n",
       "       [ 5.44887224,  6.92694735,  0.        ],\n",
       "       [ 5.16385735,  7.81613212,  0.        ],\n",
       "       [ 5.32776938,  7.26871866,  0.        ],\n",
       "       [ 6.12627245,  9.81942837,  0.        ],\n",
       "       [ 6.2285586 ,  6.24439638,  0.        ],\n",
       "       [ 5.07840788,  7.66427374,  0.        ],\n",
       "       [ 4.04419994,  5.99388073,  0.        ],\n",
       "       [ 5.36915468,  7.09912922,  0.        ],\n",
       "       [ 6.05608988,  7.88234418,  0.        ],\n",
       "       [ 5.27344687,  7.83295463,  0.        ],\n",
       "       [ 6.70657167,  7.17123737,  0.        ],\n",
       "       [ 4.6519034 ,  7.46541459,  0.        ],\n",
       "       [ 6.10224275,  8.25002826,  0.        ],\n",
       "       [ 7.68543998,  9.60291765,  0.        ],\n",
       "       [ 6.37434515,  8.39969832,  0.        ]])"
      ]
     },
     "execution_count": 66,
     "metadata": {},
     "output_type": "execute_result"
    }
   ],
   "source": [
    "data"
   ]
  },
  {
   "cell_type": "code",
   "execution_count": 69,
   "metadata": {},
   "outputs": [
    {
     "data": {
      "text/plain": [
       "(200, 3)"
      ]
     },
     "execution_count": 69,
     "metadata": {},
     "output_type": "execute_result"
    }
   ],
   "source": [
    "data.shape"
   ]
  },
  {
   "cell_type": "code",
   "execution_count": 70,
   "metadata": {},
   "outputs": [],
   "source": [
    "np.random.shuffle(data)"
   ]
  },
  {
   "cell_type": "code",
   "execution_count": 71,
   "metadata": {},
   "outputs": [
    {
     "data": {
      "text/plain": [
       "array([[ 1.7202086 ,  2.22197754,  1.        ],\n",
       "       [-0.21528714,  0.93640273,  1.        ],\n",
       "       [ 1.02711326,  0.82967747,  1.        ],\n",
       "       [ 1.85866744,  1.5945414 ,  1.        ],\n",
       "       [ 6.61583346,  8.76530714,  0.        ],\n",
       "       [ 0.53637363,  1.26240398,  1.        ],\n",
       "       [ 0.47928478,  1.30226961,  1.        ],\n",
       "       [ 8.28622561,  9.59860712,  0.        ],\n",
       "       [ 6.33228071,  6.76411872,  0.        ],\n",
       "       [ 1.09575783,  1.72959408,  1.        ],\n",
       "       [ 6.57397436,  7.35111034,  0.        ],\n",
       "       [ 1.58392186,  2.03885313,  1.        ],\n",
       "       [ 4.28572706,  7.82325581,  0.        ],\n",
       "       [ 6.18617678,  7.54728867,  0.        ],\n",
       "       [ 5.42046384,  8.59444198,  0.        ],\n",
       "       [ 6.95863703,  7.90693034,  0.        ],\n",
       "       [-0.08190222,  1.28020502,  1.        ],\n",
       "       [ 1.17599699,  2.75179388,  1.        ],\n",
       "       [ 2.64842735,  3.97440538,  1.        ],\n",
       "       [ 0.57688939,  2.33013576,  1.        ],\n",
       "       [ 1.23254491,  3.22811745,  1.        ],\n",
       "       [ 6.39231499,  7.59312749,  0.        ],\n",
       "       [ 1.16893668,  1.96500134,  1.        ],\n",
       "       [ 5.85675003,  7.95211827,  0.        ],\n",
       "       [ 5.4770246 ,  7.21988936,  0.        ],\n",
       "       [ 0.16264534,  2.95749649,  1.        ],\n",
       "       [ 6.72073775,  7.33234577,  0.        ],\n",
       "       [ 0.73793689,  2.77110914,  1.        ],\n",
       "       [ 6.64851881,  7.02617781,  0.        ],\n",
       "       [ 0.43496369,  2.13412361,  1.        ],\n",
       "       [ 1.72759576,  2.56418533,  1.        ],\n",
       "       [ 1.282158  ,  2.90944438,  1.        ],\n",
       "       [ 1.88709981,  2.73748794,  1.        ],\n",
       "       [ 4.87465197,  7.29640777,  0.        ],\n",
       "       [ 6.05608988,  7.88234418,  0.        ],\n",
       "       [ 5.46563731,  8.37697724,  0.        ],\n",
       "       [ 6.69702645,  6.33351865,  0.        ],\n",
       "       [ 1.36163039,  1.91098272,  1.        ],\n",
       "       [ 0.39864622,  1.47883258,  1.        ],\n",
       "       [ 6.99869326,  7.09309781,  0.        ],\n",
       "       [ 7.6580268 ,  7.16098887,  0.        ],\n",
       "       [ 1.04506503,  2.19185061,  1.        ],\n",
       "       [ 7.04538523,  7.33974003,  0.        ],\n",
       "       [ 6.6521021 ,  7.93464508,  0.        ],\n",
       "       [ 6.37434515,  8.39969832,  0.        ],\n",
       "       [ 0.30292341,  1.22890803,  1.        ],\n",
       "       [ 0.37089541,  2.07705256,  1.        ],\n",
       "       [ 1.22047675,  1.18825272,  1.        ],\n",
       "       [ 5.44887224,  6.92694735,  0.        ],\n",
       "       [ 7.24871225, 10.20197263,  0.        ],\n",
       "       [ 1.79451694,  1.00008649,  1.        ],\n",
       "       [ 0.20099291,  1.27740378,  1.        ],\n",
       "       [ 0.37000611,  4.30778758,  1.        ],\n",
       "       [ 0.54130724,  2.11195845,  1.        ],\n",
       "       [ 1.32530288,  0.91664984,  1.        ],\n",
       "       [ 1.45744148,  2.4156297 ,  1.        ],\n",
       "       [ 5.97507088,  6.64719569,  0.        ],\n",
       "       [ 7.17050135,  7.55369917,  0.        ],\n",
       "       [ 1.7367642 ,  2.09145145,  1.        ],\n",
       "       [ 5.40675839,  6.39360878,  0.        ],\n",
       "       [ 6.32143877,  8.8655337 ,  0.        ],\n",
       "       [ 6.44259613,  9.85967768,  0.        ],\n",
       "       [-0.46300345,  1.24344866,  1.        ],\n",
       "       [ 9.04139943,  9.48641776,  0.        ],\n",
       "       [ 5.77609798,  7.87480939,  0.        ],\n",
       "       [ 7.1972385 ,  9.07673811,  0.        ],\n",
       "       [ 0.65914352,  2.73033444,  1.        ],\n",
       "       [ 5.72819577,  8.58826941,  0.        ],\n",
       "       [ 7.04014992, 10.15525333,  0.        ],\n",
       "       [ 0.1669507 ,  0.34953358,  1.        ],\n",
       "       [ 0.05214196,  2.37407221,  1.        ],\n",
       "       [ 0.01944534,  1.66904854,  1.        ],\n",
       "       [ 6.78497207,  9.32620565,  0.        ],\n",
       "       [ 4.74174639,  7.8097407 ,  0.        ],\n",
       "       [ 0.80255676,  1.22845873,  1.        ],\n",
       "       [ 5.16385735,  7.81613212,  0.        ],\n",
       "       [ 1.9064213 ,  1.36222099,  1.        ],\n",
       "       [ 0.37762108,  0.34779464,  1.        ],\n",
       "       [ 1.50678335,  2.32909012,  1.        ],\n",
       "       [ 5.32776938,  7.26871866,  0.        ],\n",
       "       [ 7.76207378,  9.21407908,  0.        ],\n",
       "       [ 1.39182659,  2.83537742,  1.        ],\n",
       "       [ 6.55496292,  5.1962703 ,  0.        ],\n",
       "       [ 5.73752933,  7.73216411,  0.        ],\n",
       "       [ 5.92673461,  7.25209139,  0.        ],\n",
       "       [ 1.36329985,  1.45377101,  1.        ],\n",
       "       [ 6.4331658 ,  7.48517262,  0.        ],\n",
       "       [ 4.04419994,  5.99388073,  0.        ],\n",
       "       [ 6.84949763,  8.29924477,  0.        ],\n",
       "       [ 6.12627245,  9.81942837,  0.        ],\n",
       "       [ 1.93776706,  1.96917246,  1.        ],\n",
       "       [ 0.9977434 ,  2.5292104 ,  1.        ],\n",
       "       [ 0.78779273,  1.87346493,  1.        ],\n",
       "       [ 0.35197185,  1.91182495,  1.        ],\n",
       "       [ 7.68543998,  9.60291765,  0.        ],\n",
       "       [ 5.27344687,  7.83295463,  0.        ],\n",
       "       [ 0.13962718,  2.69007615,  1.        ],\n",
       "       [ 1.16264976,  2.57447925,  1.        ],\n",
       "       [ 6.0690462 ,  7.32628085,  0.        ],\n",
       "       [ 5.07448473,  6.81457206,  0.        ],\n",
       "       [ 6.384918  ,  6.04773761,  0.        ],\n",
       "       [ 2.13974819,  2.50471898,  1.        ],\n",
       "       [ 7.34388686,  7.89016942,  0.        ],\n",
       "       [ 0.61822   ,  2.33969312,  1.        ],\n",
       "       [ 7.09835374,  8.15598402,  0.        ],\n",
       "       [ 5.50349592,  7.01004475,  0.        ],\n",
       "       [ 1.12197675,  2.60519943,  1.        ],\n",
       "       [ 0.61661828,  0.16118955,  1.        ],\n",
       "       [ 1.10115099,  2.85732527,  1.        ],\n",
       "       [ 1.81312667,  1.13644522,  1.        ],\n",
       "       [ 0.82575527,  1.98589481,  1.        ],\n",
       "       [ 0.35047649,  0.30781271,  1.        ],\n",
       "       [ 5.90808291,  7.77299212,  0.        ],\n",
       "       [ 5.18304509,  7.60050524,  0.        ],\n",
       "       [ 1.31325502,  1.88751001,  1.        ],\n",
       "       [ 4.93054751,  8.17600198,  0.        ],\n",
       "       [ 0.81205257,  1.09300203,  1.        ],\n",
       "       [ 6.2285586 ,  6.24439638,  0.        ],\n",
       "       [ 1.33114202,  1.5635794 ,  1.        ],\n",
       "       [ 0.90803005,  2.33452831,  1.        ],\n",
       "       [ 3.49332556,  8.1828487 ,  0.        ],\n",
       "       [ 7.35164588,  7.09178864,  0.        ],\n",
       "       [ 0.59709394,  1.64653654,  1.        ],\n",
       "       [ 7.50979088,  9.10227861,  0.        ],\n",
       "       [ 1.63414377,  1.64109702,  1.        ],\n",
       "       [ 1.15008806,  1.49441883,  1.        ],\n",
       "       [ 1.15061148,  2.30234677,  1.        ],\n",
       "       [ 6.40558647,  8.44408074,  0.        ],\n",
       "       [ 0.51338497,  0.92542271,  1.        ],\n",
       "       [ 5.42500736, 10.15713433,  0.        ],\n",
       "       [-0.0328632 ,  2.53277839,  1.        ],\n",
       "       [ 5.12653682,  8.45482421,  0.        ],\n",
       "       [ 6.83235976,  8.76137723,  0.        ],\n",
       "       [ 4.62075   ,  6.62970559,  0.        ],\n",
       "       [ 0.2561121 ,  2.58248415,  1.        ],\n",
       "       [ 5.4287663 ,  8.50364666,  0.        ],\n",
       "       [ 0.73061948,  2.31011802,  1.        ],\n",
       "       [ 6.73398317,  7.88025628,  0.        ],\n",
       "       [-0.65477324,  2.32674877,  1.        ],\n",
       "       [ 5.87723214,  8.59386932,  0.        ],\n",
       "       [ 0.80156985,  0.60252252,  1.        ],\n",
       "       [ 5.36281492,  7.58683576,  0.        ],\n",
       "       [ 7.19379098,  8.77865484,  0.        ],\n",
       "       [ 2.60204482,  2.40213803,  1.        ],\n",
       "       [ 5.95483245,  6.78798227,  0.        ],\n",
       "       [ 5.36145331,  7.63943677,  0.        ],\n",
       "       [ 7.58314552,  8.53408171,  0.        ],\n",
       "       [ 5.85694081,  6.7304422 ,  0.        ],\n",
       "       [ 1.67256706,  1.33449523,  1.        ],\n",
       "       [ 1.8395735 ,  1.31344712,  1.        ],\n",
       "       [ 8.42797999,  8.85632628,  0.        ],\n",
       "       [ 6.13704414,  7.12916196,  0.        ],\n",
       "       [ 0.27938446,  2.85810766,  1.        ],\n",
       "       [ 4.6519034 ,  7.46541459,  0.        ],\n",
       "       [ 1.92165216,  3.669345  ,  1.        ],\n",
       "       [ 5.69534623,  6.81870422,  0.        ],\n",
       "       [ 5.36915468,  7.09912922,  0.        ],\n",
       "       [ 5.29082305,  8.64074112,  0.        ],\n",
       "       [ 0.94291521,  1.82547842,  1.        ],\n",
       "       [ 5.6127258 ,  8.71234695,  0.        ],\n",
       "       [ 0.33509294,  1.66743298,  1.        ],\n",
       "       [ 4.85323578,  5.95697617,  0.        ],\n",
       "       [ 5.07840788,  7.66427374,  0.        ],\n",
       "       [ 0.68118058,  1.87546718,  1.        ],\n",
       "       [ 6.40674619,  8.75817059,  0.        ],\n",
       "       [ 1.26053454,  3.36084807,  1.        ],\n",
       "       [ 1.68984521,  2.0748052 ,  1.        ],\n",
       "       [ 1.01135781,  2.34230784,  1.        ],\n",
       "       [ 1.56336203,  3.41669444,  1.        ],\n",
       "       [ 5.18883777,  7.84474597,  0.        ],\n",
       "       [ 1.66150256,  1.79569478,  1.        ],\n",
       "       [ 5.60909404,  8.65876286,  0.        ],\n",
       "       [ 1.96232572,  1.55147111,  1.        ],\n",
       "       [ 1.48236345,  3.19766822,  1.        ],\n",
       "       [ 5.75803761,  7.81560411,  0.        ],\n",
       "       [ 6.10224275,  8.25002826,  0.        ],\n",
       "       [ 1.69892715,  2.33263885,  1.        ],\n",
       "       [ 4.62100212,  6.6153097 ,  0.        ],\n",
       "       [ 0.27607072,  1.01708917,  1.        ],\n",
       "       [ 0.51684739,  1.27608545,  1.        ],\n",
       "       [ 0.64402282,  2.90928759,  1.        ],\n",
       "       [ 5.49976703,  7.32033793,  0.        ],\n",
       "       [ 5.2270415 ,  8.84363009,  0.        ],\n",
       "       [ 5.3395669 ,  7.59671546,  0.        ],\n",
       "       [ 0.35612739,  1.10408823,  1.        ],\n",
       "       [ 0.98969559,  0.83627055,  1.        ],\n",
       "       [ 1.69375376,  3.7751361 ,  1.        ],\n",
       "       [ 5.58468576,  6.85645655,  0.        ],\n",
       "       [ 0.03023901,  1.87720742,  1.        ],\n",
       "       [ 0.45527762,  0.8212083 ,  1.        ],\n",
       "       [ 6.70657167,  7.17123737,  0.        ],\n",
       "       [ 1.77374595,  2.96772698,  1.        ],\n",
       "       [ 0.56666502,  3.18279924,  1.        ],\n",
       "       [ 1.1795654 ,  2.52876059,  1.        ],\n",
       "       [ 6.13536931,  9.30913174,  0.        ],\n",
       "       [-0.16473638,  1.33461282,  1.        ],\n",
       "       [ 6.82771637,  8.60867836,  0.        ],\n",
       "       [ 6.86159186,  8.43856446,  0.        ],\n",
       "       [ 5.90754831,  7.03596719,  0.        ],\n",
       "       [ 7.20554636,  9.03720431,  0.        ]])"
      ]
     },
     "execution_count": 71,
     "metadata": {},
     "output_type": "execute_result"
    }
   ],
   "source": [
    "data"
   ]
  },
  {
   "cell_type": "code",
   "execution_count": 72,
   "metadata": {},
   "outputs": [],
   "source": [
    "X = data[:,:-1]\n",
    "Y = data[:,-1]"
   ]
  },
  {
   "cell_type": "code",
   "execution_count": 73,
   "metadata": {},
   "outputs": [
    {
     "data": {
      "text/plain": [
       "array([[ 1.7202086 ,  2.22197754],\n",
       "       [-0.21528714,  0.93640273],\n",
       "       [ 1.02711326,  0.82967747],\n",
       "       [ 1.85866744,  1.5945414 ],\n",
       "       [ 6.61583346,  8.76530714],\n",
       "       [ 0.53637363,  1.26240398],\n",
       "       [ 0.47928478,  1.30226961],\n",
       "       [ 8.28622561,  9.59860712],\n",
       "       [ 6.33228071,  6.76411872],\n",
       "       [ 1.09575783,  1.72959408],\n",
       "       [ 6.57397436,  7.35111034],\n",
       "       [ 1.58392186,  2.03885313],\n",
       "       [ 4.28572706,  7.82325581],\n",
       "       [ 6.18617678,  7.54728867],\n",
       "       [ 5.42046384,  8.59444198],\n",
       "       [ 6.95863703,  7.90693034],\n",
       "       [-0.08190222,  1.28020502],\n",
       "       [ 1.17599699,  2.75179388],\n",
       "       [ 2.64842735,  3.97440538],\n",
       "       [ 0.57688939,  2.33013576],\n",
       "       [ 1.23254491,  3.22811745],\n",
       "       [ 6.39231499,  7.59312749],\n",
       "       [ 1.16893668,  1.96500134],\n",
       "       [ 5.85675003,  7.95211827],\n",
       "       [ 5.4770246 ,  7.21988936],\n",
       "       [ 0.16264534,  2.95749649],\n",
       "       [ 6.72073775,  7.33234577],\n",
       "       [ 0.73793689,  2.77110914],\n",
       "       [ 6.64851881,  7.02617781],\n",
       "       [ 0.43496369,  2.13412361],\n",
       "       [ 1.72759576,  2.56418533],\n",
       "       [ 1.282158  ,  2.90944438],\n",
       "       [ 1.88709981,  2.73748794],\n",
       "       [ 4.87465197,  7.29640777],\n",
       "       [ 6.05608988,  7.88234418],\n",
       "       [ 5.46563731,  8.37697724],\n",
       "       [ 6.69702645,  6.33351865],\n",
       "       [ 1.36163039,  1.91098272],\n",
       "       [ 0.39864622,  1.47883258],\n",
       "       [ 6.99869326,  7.09309781],\n",
       "       [ 7.6580268 ,  7.16098887],\n",
       "       [ 1.04506503,  2.19185061],\n",
       "       [ 7.04538523,  7.33974003],\n",
       "       [ 6.6521021 ,  7.93464508],\n",
       "       [ 6.37434515,  8.39969832],\n",
       "       [ 0.30292341,  1.22890803],\n",
       "       [ 0.37089541,  2.07705256],\n",
       "       [ 1.22047675,  1.18825272],\n",
       "       [ 5.44887224,  6.92694735],\n",
       "       [ 7.24871225, 10.20197263],\n",
       "       [ 1.79451694,  1.00008649],\n",
       "       [ 0.20099291,  1.27740378],\n",
       "       [ 0.37000611,  4.30778758],\n",
       "       [ 0.54130724,  2.11195845],\n",
       "       [ 1.32530288,  0.91664984],\n",
       "       [ 1.45744148,  2.4156297 ],\n",
       "       [ 5.97507088,  6.64719569],\n",
       "       [ 7.17050135,  7.55369917],\n",
       "       [ 1.7367642 ,  2.09145145],\n",
       "       [ 5.40675839,  6.39360878],\n",
       "       [ 6.32143877,  8.8655337 ],\n",
       "       [ 6.44259613,  9.85967768],\n",
       "       [-0.46300345,  1.24344866],\n",
       "       [ 9.04139943,  9.48641776],\n",
       "       [ 5.77609798,  7.87480939],\n",
       "       [ 7.1972385 ,  9.07673811],\n",
       "       [ 0.65914352,  2.73033444],\n",
       "       [ 5.72819577,  8.58826941],\n",
       "       [ 7.04014992, 10.15525333],\n",
       "       [ 0.1669507 ,  0.34953358],\n",
       "       [ 0.05214196,  2.37407221],\n",
       "       [ 0.01944534,  1.66904854],\n",
       "       [ 6.78497207,  9.32620565],\n",
       "       [ 4.74174639,  7.8097407 ],\n",
       "       [ 0.80255676,  1.22845873],\n",
       "       [ 5.16385735,  7.81613212],\n",
       "       [ 1.9064213 ,  1.36222099],\n",
       "       [ 0.37762108,  0.34779464],\n",
       "       [ 1.50678335,  2.32909012],\n",
       "       [ 5.32776938,  7.26871866],\n",
       "       [ 7.76207378,  9.21407908],\n",
       "       [ 1.39182659,  2.83537742],\n",
       "       [ 6.55496292,  5.1962703 ],\n",
       "       [ 5.73752933,  7.73216411],\n",
       "       [ 5.92673461,  7.25209139],\n",
       "       [ 1.36329985,  1.45377101],\n",
       "       [ 6.4331658 ,  7.48517262],\n",
       "       [ 4.04419994,  5.99388073],\n",
       "       [ 6.84949763,  8.29924477],\n",
       "       [ 6.12627245,  9.81942837],\n",
       "       [ 1.93776706,  1.96917246],\n",
       "       [ 0.9977434 ,  2.5292104 ],\n",
       "       [ 0.78779273,  1.87346493],\n",
       "       [ 0.35197185,  1.91182495],\n",
       "       [ 7.68543998,  9.60291765],\n",
       "       [ 5.27344687,  7.83295463],\n",
       "       [ 0.13962718,  2.69007615],\n",
       "       [ 1.16264976,  2.57447925],\n",
       "       [ 6.0690462 ,  7.32628085],\n",
       "       [ 5.07448473,  6.81457206],\n",
       "       [ 6.384918  ,  6.04773761],\n",
       "       [ 2.13974819,  2.50471898],\n",
       "       [ 7.34388686,  7.89016942],\n",
       "       [ 0.61822   ,  2.33969312],\n",
       "       [ 7.09835374,  8.15598402],\n",
       "       [ 5.50349592,  7.01004475],\n",
       "       [ 1.12197675,  2.60519943],\n",
       "       [ 0.61661828,  0.16118955],\n",
       "       [ 1.10115099,  2.85732527],\n",
       "       [ 1.81312667,  1.13644522],\n",
       "       [ 0.82575527,  1.98589481],\n",
       "       [ 0.35047649,  0.30781271],\n",
       "       [ 5.90808291,  7.77299212],\n",
       "       [ 5.18304509,  7.60050524],\n",
       "       [ 1.31325502,  1.88751001],\n",
       "       [ 4.93054751,  8.17600198],\n",
       "       [ 0.81205257,  1.09300203],\n",
       "       [ 6.2285586 ,  6.24439638],\n",
       "       [ 1.33114202,  1.5635794 ],\n",
       "       [ 0.90803005,  2.33452831],\n",
       "       [ 3.49332556,  8.1828487 ],\n",
       "       [ 7.35164588,  7.09178864],\n",
       "       [ 0.59709394,  1.64653654],\n",
       "       [ 7.50979088,  9.10227861],\n",
       "       [ 1.63414377,  1.64109702],\n",
       "       [ 1.15008806,  1.49441883],\n",
       "       [ 1.15061148,  2.30234677],\n",
       "       [ 6.40558647,  8.44408074],\n",
       "       [ 0.51338497,  0.92542271],\n",
       "       [ 5.42500736, 10.15713433],\n",
       "       [-0.0328632 ,  2.53277839],\n",
       "       [ 5.12653682,  8.45482421],\n",
       "       [ 6.83235976,  8.76137723],\n",
       "       [ 4.62075   ,  6.62970559],\n",
       "       [ 0.2561121 ,  2.58248415],\n",
       "       [ 5.4287663 ,  8.50364666],\n",
       "       [ 0.73061948,  2.31011802],\n",
       "       [ 6.73398317,  7.88025628],\n",
       "       [-0.65477324,  2.32674877],\n",
       "       [ 5.87723214,  8.59386932],\n",
       "       [ 0.80156985,  0.60252252],\n",
       "       [ 5.36281492,  7.58683576],\n",
       "       [ 7.19379098,  8.77865484],\n",
       "       [ 2.60204482,  2.40213803],\n",
       "       [ 5.95483245,  6.78798227],\n",
       "       [ 5.36145331,  7.63943677],\n",
       "       [ 7.58314552,  8.53408171],\n",
       "       [ 5.85694081,  6.7304422 ],\n",
       "       [ 1.67256706,  1.33449523],\n",
       "       [ 1.8395735 ,  1.31344712],\n",
       "       [ 8.42797999,  8.85632628],\n",
       "       [ 6.13704414,  7.12916196],\n",
       "       [ 0.27938446,  2.85810766],\n",
       "       [ 4.6519034 ,  7.46541459],\n",
       "       [ 1.92165216,  3.669345  ],\n",
       "       [ 5.69534623,  6.81870422],\n",
       "       [ 5.36915468,  7.09912922],\n",
       "       [ 5.29082305,  8.64074112],\n",
       "       [ 0.94291521,  1.82547842],\n",
       "       [ 5.6127258 ,  8.71234695],\n",
       "       [ 0.33509294,  1.66743298],\n",
       "       [ 4.85323578,  5.95697617],\n",
       "       [ 5.07840788,  7.66427374],\n",
       "       [ 0.68118058,  1.87546718],\n",
       "       [ 6.40674619,  8.75817059],\n",
       "       [ 1.26053454,  3.36084807],\n",
       "       [ 1.68984521,  2.0748052 ],\n",
       "       [ 1.01135781,  2.34230784],\n",
       "       [ 1.56336203,  3.41669444],\n",
       "       [ 5.18883777,  7.84474597],\n",
       "       [ 1.66150256,  1.79569478],\n",
       "       [ 5.60909404,  8.65876286],\n",
       "       [ 1.96232572,  1.55147111],\n",
       "       [ 1.48236345,  3.19766822],\n",
       "       [ 5.75803761,  7.81560411],\n",
       "       [ 6.10224275,  8.25002826],\n",
       "       [ 1.69892715,  2.33263885],\n",
       "       [ 4.62100212,  6.6153097 ],\n",
       "       [ 0.27607072,  1.01708917],\n",
       "       [ 0.51684739,  1.27608545],\n",
       "       [ 0.64402282,  2.90928759],\n",
       "       [ 5.49976703,  7.32033793],\n",
       "       [ 5.2270415 ,  8.84363009],\n",
       "       [ 5.3395669 ,  7.59671546],\n",
       "       [ 0.35612739,  1.10408823],\n",
       "       [ 0.98969559,  0.83627055],\n",
       "       [ 1.69375376,  3.7751361 ],\n",
       "       [ 5.58468576,  6.85645655],\n",
       "       [ 0.03023901,  1.87720742],\n",
       "       [ 0.45527762,  0.8212083 ],\n",
       "       [ 6.70657167,  7.17123737],\n",
       "       [ 1.77374595,  2.96772698],\n",
       "       [ 0.56666502,  3.18279924],\n",
       "       [ 1.1795654 ,  2.52876059],\n",
       "       [ 6.13536931,  9.30913174],\n",
       "       [-0.16473638,  1.33461282],\n",
       "       [ 6.82771637,  8.60867836],\n",
       "       [ 6.86159186,  8.43856446],\n",
       "       [ 5.90754831,  7.03596719],\n",
       "       [ 7.20554636,  9.03720431]])"
      ]
     },
     "execution_count": 73,
     "metadata": {},
     "output_type": "execute_result"
    }
   ],
   "source": [
    "X"
   ]
  },
  {
   "cell_type": "code",
   "execution_count": 74,
   "metadata": {},
   "outputs": [
    {
     "data": {
      "text/plain": [
       "(200, 2)"
      ]
     },
     "execution_count": 74,
     "metadata": {},
     "output_type": "execute_result"
    }
   ],
   "source": [
    "X.shape"
   ]
  },
  {
   "cell_type": "code",
   "execution_count": 75,
   "metadata": {},
   "outputs": [
    {
     "data": {
      "text/plain": [
       "array([1., 1., 1., 1., 0., 1., 1., 0., 0., 1., 0., 1., 0., 0., 0., 0., 1.,\n",
       "       1., 1., 1., 1., 0., 1., 0., 0., 1., 0., 1., 0., 1., 1., 1., 1., 0.,\n",
       "       0., 0., 0., 1., 1., 0., 0., 1., 0., 0., 0., 1., 1., 1., 0., 0., 1.,\n",
       "       1., 1., 1., 1., 1., 0., 0., 1., 0., 0., 0., 1., 0., 0., 0., 1., 0.,\n",
       "       0., 1., 1., 1., 0., 0., 1., 0., 1., 1., 1., 0., 0., 1., 0., 0., 0.,\n",
       "       1., 0., 0., 0., 0., 1., 1., 1., 1., 0., 0., 1., 1., 0., 0., 0., 1.,\n",
       "       0., 1., 0., 0., 1., 1., 1., 1., 1., 1., 0., 0., 1., 0., 1., 0., 1.,\n",
       "       1., 0., 0., 1., 0., 1., 1., 1., 0., 1., 0., 1., 0., 0., 0., 1., 0.,\n",
       "       1., 0., 1., 0., 1., 0., 0., 1., 0., 0., 0., 0., 1., 1., 0., 0., 1.,\n",
       "       0., 1., 0., 0., 0., 1., 0., 1., 0., 0., 1., 0., 1., 1., 1., 1., 0.,\n",
       "       1., 0., 1., 1., 0., 0., 1., 0., 1., 1., 1., 0., 0., 0., 1., 1., 1.,\n",
       "       0., 1., 1., 0., 1., 1., 1., 0., 1., 0., 0., 0., 0.])"
      ]
     },
     "execution_count": 75,
     "metadata": {},
     "output_type": "execute_result"
    }
   ],
   "source": [
    "Y"
   ]
  },
  {
   "cell_type": "code",
   "execution_count": 76,
   "metadata": {},
   "outputs": [
    {
     "data": {
      "text/plain": [
       "(200,)"
      ]
     },
     "execution_count": 76,
     "metadata": {},
     "output_type": "execute_result"
    }
   ],
   "source": [
    "Y.shape"
   ]
  },
  {
   "cell_type": "code",
   "execution_count": 77,
   "metadata": {},
   "outputs": [
    {
     "data": {
      "text/plain": [
       "((200, 2), (200,))"
      ]
     },
     "execution_count": 77,
     "metadata": {},
     "output_type": "execute_result"
    }
   ],
   "source": [
    "X.shape,Y.shape"
   ]
  },
  {
   "cell_type": "code",
   "execution_count": 78,
   "metadata": {},
   "outputs": [
    {
     "data": {
      "text/plain": [
       "array([[ 1.7202086 ,  2.22197754,  1.        ],\n",
       "       [-0.21528714,  0.93640273,  1.        ],\n",
       "       [ 1.02711326,  0.82967747,  1.        ],\n",
       "       [ 1.85866744,  1.5945414 ,  1.        ],\n",
       "       [ 6.61583346,  8.76530714,  0.        ]])"
      ]
     },
     "execution_count": 78,
     "metadata": {},
     "output_type": "execute_result"
    }
   ],
   "source": [
    "data[:5]"
   ]
  },
  {
   "cell_type": "markdown",
   "metadata": {},
   "source": [
    "<h4> Logistic Regression </h4>"
   ]
  },
  {
   "cell_type": "code",
   "execution_count": 19,
   "metadata": {},
   "outputs": [],
   "source": [
    "def Sigmoid(z):\n",
    "    return 1 / (1 + np.exp(-z))"
   ]
  },
  {
   "cell_type": "code",
   "execution_count": 20,
   "metadata": {},
   "outputs": [],
   "source": [
    "def Hypothesis(X, theta):\n",
    "    return Sigmoid(X.dot(theta))"
   ]
  },
  {
   "cell_type": "markdown",
   "metadata": {},
   "source": [
    "$$\n",
    "J_{\\theta}(x) = - \\frac{1}{m} \\Sigma y^{(i)} log(h(x^{(i)})) + (1 - y^{(i)}) log(1 - h(x^{(i)}))\n",
    "$$"
   ]
  },
  {
   "cell_type": "code",
   "execution_count": 79,
   "metadata": {},
   "outputs": [],
   "source": [
    "def Error(X, theta, Y):\n",
    "    hx = Hypothesis(X, theta)\n",
    "    err = (Y * np.log(hx) + (1 - Y) * np.log(1-hx)).mean()\n",
    "    return -err"
   ]
  },
  {
   "cell_type": "code",
   "execution_count": 86,
   "metadata": {},
   "outputs": [
    {
     "data": {
      "text/plain": [
       "7.917552416830338"
      ]
     },
     "execution_count": 86,
     "metadata": {},
     "output_type": "execute_result"
    }
   ],
   "source": [
    "Error(X, [0, 2], Y)"
   ]
  },
  {
   "cell_type": "code",
   "execution_count": 87,
   "metadata": {},
   "outputs": [],
   "source": [
    "def gradient(X, Y, hx, m):\n",
    "    return np.dot(X.T, (hx - Y)) / m"
   ]
  },
  {
   "cell_type": "code",
   "execution_count": null,
   "metadata": {},
   "outputs": [],
   "source": []
  },
  {
   "cell_type": "code",
   "execution_count": 95,
   "metadata": {},
   "outputs": [],
   "source": [
    "def gradient_descent(X, Y, lr=0.5, max_itr=1000):\n",
    "    err_list = []\n",
    "    m, n = X.shape\n",
    "    theta = np.zeros((n,1))\n",
    "    for i in range(max_itr):\n",
    "        err = Error(X, theta, Y)\n",
    "        err_list.append(err)\n",
    "        hx = Hypothesis(X, theta)\n",
    "        grad = gradient(X, Y, hx, m)\n",
    "        theta -= lr * grad\n",
    "        if i % 100 == 0:\n",
    "            print(f'Iteration no {i} and cost {err}')\n",
    "    return theta, err_list        "
   ]
  },
  {
   "cell_type": "code",
   "execution_count": 89,
   "metadata": {},
   "outputs": [
    {
     "data": {
      "text/plain": [
       "array([[ 1.        ,  1.7202086 ,  2.22197754],\n",
       "       [ 1.        , -0.21528714,  0.93640273],\n",
       "       [ 1.        ,  1.02711326,  0.82967747],\n",
       "       [ 1.        ,  1.85866744,  1.5945414 ],\n",
       "       [ 1.        ,  6.61583346,  8.76530714],\n",
       "       [ 1.        ,  0.53637363,  1.26240398],\n",
       "       [ 1.        ,  0.47928478,  1.30226961],\n",
       "       [ 1.        ,  8.28622561,  9.59860712],\n",
       "       [ 1.        ,  6.33228071,  6.76411872],\n",
       "       [ 1.        ,  1.09575783,  1.72959408],\n",
       "       [ 1.        ,  6.57397436,  7.35111034],\n",
       "       [ 1.        ,  1.58392186,  2.03885313],\n",
       "       [ 1.        ,  4.28572706,  7.82325581],\n",
       "       [ 1.        ,  6.18617678,  7.54728867],\n",
       "       [ 1.        ,  5.42046384,  8.59444198],\n",
       "       [ 1.        ,  6.95863703,  7.90693034],\n",
       "       [ 1.        , -0.08190222,  1.28020502],\n",
       "       [ 1.        ,  1.17599699,  2.75179388],\n",
       "       [ 1.        ,  2.64842735,  3.97440538],\n",
       "       [ 1.        ,  0.57688939,  2.33013576],\n",
       "       [ 1.        ,  1.23254491,  3.22811745],\n",
       "       [ 1.        ,  6.39231499,  7.59312749],\n",
       "       [ 1.        ,  1.16893668,  1.96500134],\n",
       "       [ 1.        ,  5.85675003,  7.95211827],\n",
       "       [ 1.        ,  5.4770246 ,  7.21988936],\n",
       "       [ 1.        ,  0.16264534,  2.95749649],\n",
       "       [ 1.        ,  6.72073775,  7.33234577],\n",
       "       [ 1.        ,  0.73793689,  2.77110914],\n",
       "       [ 1.        ,  6.64851881,  7.02617781],\n",
       "       [ 1.        ,  0.43496369,  2.13412361],\n",
       "       [ 1.        ,  1.72759576,  2.56418533],\n",
       "       [ 1.        ,  1.282158  ,  2.90944438],\n",
       "       [ 1.        ,  1.88709981,  2.73748794],\n",
       "       [ 1.        ,  4.87465197,  7.29640777],\n",
       "       [ 1.        ,  6.05608988,  7.88234418],\n",
       "       [ 1.        ,  5.46563731,  8.37697724],\n",
       "       [ 1.        ,  6.69702645,  6.33351865],\n",
       "       [ 1.        ,  1.36163039,  1.91098272],\n",
       "       [ 1.        ,  0.39864622,  1.47883258],\n",
       "       [ 1.        ,  6.99869326,  7.09309781],\n",
       "       [ 1.        ,  7.6580268 ,  7.16098887],\n",
       "       [ 1.        ,  1.04506503,  2.19185061],\n",
       "       [ 1.        ,  7.04538523,  7.33974003],\n",
       "       [ 1.        ,  6.6521021 ,  7.93464508],\n",
       "       [ 1.        ,  6.37434515,  8.39969832],\n",
       "       [ 1.        ,  0.30292341,  1.22890803],\n",
       "       [ 1.        ,  0.37089541,  2.07705256],\n",
       "       [ 1.        ,  1.22047675,  1.18825272],\n",
       "       [ 1.        ,  5.44887224,  6.92694735],\n",
       "       [ 1.        ,  7.24871225, 10.20197263],\n",
       "       [ 1.        ,  1.79451694,  1.00008649],\n",
       "       [ 1.        ,  0.20099291,  1.27740378],\n",
       "       [ 1.        ,  0.37000611,  4.30778758],\n",
       "       [ 1.        ,  0.54130724,  2.11195845],\n",
       "       [ 1.        ,  1.32530288,  0.91664984],\n",
       "       [ 1.        ,  1.45744148,  2.4156297 ],\n",
       "       [ 1.        ,  5.97507088,  6.64719569],\n",
       "       [ 1.        ,  7.17050135,  7.55369917],\n",
       "       [ 1.        ,  1.7367642 ,  2.09145145],\n",
       "       [ 1.        ,  5.40675839,  6.39360878],\n",
       "       [ 1.        ,  6.32143877,  8.8655337 ],\n",
       "       [ 1.        ,  6.44259613,  9.85967768],\n",
       "       [ 1.        , -0.46300345,  1.24344866],\n",
       "       [ 1.        ,  9.04139943,  9.48641776],\n",
       "       [ 1.        ,  5.77609798,  7.87480939],\n",
       "       [ 1.        ,  7.1972385 ,  9.07673811],\n",
       "       [ 1.        ,  0.65914352,  2.73033444],\n",
       "       [ 1.        ,  5.72819577,  8.58826941],\n",
       "       [ 1.        ,  7.04014992, 10.15525333],\n",
       "       [ 1.        ,  0.1669507 ,  0.34953358],\n",
       "       [ 1.        ,  0.05214196,  2.37407221],\n",
       "       [ 1.        ,  0.01944534,  1.66904854],\n",
       "       [ 1.        ,  6.78497207,  9.32620565],\n",
       "       [ 1.        ,  4.74174639,  7.8097407 ],\n",
       "       [ 1.        ,  0.80255676,  1.22845873],\n",
       "       [ 1.        ,  5.16385735,  7.81613212],\n",
       "       [ 1.        ,  1.9064213 ,  1.36222099],\n",
       "       [ 1.        ,  0.37762108,  0.34779464],\n",
       "       [ 1.        ,  1.50678335,  2.32909012],\n",
       "       [ 1.        ,  5.32776938,  7.26871866],\n",
       "       [ 1.        ,  7.76207378,  9.21407908],\n",
       "       [ 1.        ,  1.39182659,  2.83537742],\n",
       "       [ 1.        ,  6.55496292,  5.1962703 ],\n",
       "       [ 1.        ,  5.73752933,  7.73216411],\n",
       "       [ 1.        ,  5.92673461,  7.25209139],\n",
       "       [ 1.        ,  1.36329985,  1.45377101],\n",
       "       [ 1.        ,  6.4331658 ,  7.48517262],\n",
       "       [ 1.        ,  4.04419994,  5.99388073],\n",
       "       [ 1.        ,  6.84949763,  8.29924477],\n",
       "       [ 1.        ,  6.12627245,  9.81942837],\n",
       "       [ 1.        ,  1.93776706,  1.96917246],\n",
       "       [ 1.        ,  0.9977434 ,  2.5292104 ],\n",
       "       [ 1.        ,  0.78779273,  1.87346493],\n",
       "       [ 1.        ,  0.35197185,  1.91182495],\n",
       "       [ 1.        ,  7.68543998,  9.60291765],\n",
       "       [ 1.        ,  5.27344687,  7.83295463],\n",
       "       [ 1.        ,  0.13962718,  2.69007615],\n",
       "       [ 1.        ,  1.16264976,  2.57447925],\n",
       "       [ 1.        ,  6.0690462 ,  7.32628085],\n",
       "       [ 1.        ,  5.07448473,  6.81457206],\n",
       "       [ 1.        ,  6.384918  ,  6.04773761],\n",
       "       [ 1.        ,  2.13974819,  2.50471898],\n",
       "       [ 1.        ,  7.34388686,  7.89016942],\n",
       "       [ 1.        ,  0.61822   ,  2.33969312],\n",
       "       [ 1.        ,  7.09835374,  8.15598402],\n",
       "       [ 1.        ,  5.50349592,  7.01004475],\n",
       "       [ 1.        ,  1.12197675,  2.60519943],\n",
       "       [ 1.        ,  0.61661828,  0.16118955],\n",
       "       [ 1.        ,  1.10115099,  2.85732527],\n",
       "       [ 1.        ,  1.81312667,  1.13644522],\n",
       "       [ 1.        ,  0.82575527,  1.98589481],\n",
       "       [ 1.        ,  0.35047649,  0.30781271],\n",
       "       [ 1.        ,  5.90808291,  7.77299212],\n",
       "       [ 1.        ,  5.18304509,  7.60050524],\n",
       "       [ 1.        ,  1.31325502,  1.88751001],\n",
       "       [ 1.        ,  4.93054751,  8.17600198],\n",
       "       [ 1.        ,  0.81205257,  1.09300203],\n",
       "       [ 1.        ,  6.2285586 ,  6.24439638],\n",
       "       [ 1.        ,  1.33114202,  1.5635794 ],\n",
       "       [ 1.        ,  0.90803005,  2.33452831],\n",
       "       [ 1.        ,  3.49332556,  8.1828487 ],\n",
       "       [ 1.        ,  7.35164588,  7.09178864],\n",
       "       [ 1.        ,  0.59709394,  1.64653654],\n",
       "       [ 1.        ,  7.50979088,  9.10227861],\n",
       "       [ 1.        ,  1.63414377,  1.64109702],\n",
       "       [ 1.        ,  1.15008806,  1.49441883],\n",
       "       [ 1.        ,  1.15061148,  2.30234677],\n",
       "       [ 1.        ,  6.40558647,  8.44408074],\n",
       "       [ 1.        ,  0.51338497,  0.92542271],\n",
       "       [ 1.        ,  5.42500736, 10.15713433],\n",
       "       [ 1.        , -0.0328632 ,  2.53277839],\n",
       "       [ 1.        ,  5.12653682,  8.45482421],\n",
       "       [ 1.        ,  6.83235976,  8.76137723],\n",
       "       [ 1.        ,  4.62075   ,  6.62970559],\n",
       "       [ 1.        ,  0.2561121 ,  2.58248415],\n",
       "       [ 1.        ,  5.4287663 ,  8.50364666],\n",
       "       [ 1.        ,  0.73061948,  2.31011802],\n",
       "       [ 1.        ,  6.73398317,  7.88025628],\n",
       "       [ 1.        , -0.65477324,  2.32674877],\n",
       "       [ 1.        ,  5.87723214,  8.59386932],\n",
       "       [ 1.        ,  0.80156985,  0.60252252],\n",
       "       [ 1.        ,  5.36281492,  7.58683576],\n",
       "       [ 1.        ,  7.19379098,  8.77865484],\n",
       "       [ 1.        ,  2.60204482,  2.40213803],\n",
       "       [ 1.        ,  5.95483245,  6.78798227],\n",
       "       [ 1.        ,  5.36145331,  7.63943677],\n",
       "       [ 1.        ,  7.58314552,  8.53408171],\n",
       "       [ 1.        ,  5.85694081,  6.7304422 ],\n",
       "       [ 1.        ,  1.67256706,  1.33449523],\n",
       "       [ 1.        ,  1.8395735 ,  1.31344712],\n",
       "       [ 1.        ,  8.42797999,  8.85632628],\n",
       "       [ 1.        ,  6.13704414,  7.12916196],\n",
       "       [ 1.        ,  0.27938446,  2.85810766],\n",
       "       [ 1.        ,  4.6519034 ,  7.46541459],\n",
       "       [ 1.        ,  1.92165216,  3.669345  ],\n",
       "       [ 1.        ,  5.69534623,  6.81870422],\n",
       "       [ 1.        ,  5.36915468,  7.09912922],\n",
       "       [ 1.        ,  5.29082305,  8.64074112],\n",
       "       [ 1.        ,  0.94291521,  1.82547842],\n",
       "       [ 1.        ,  5.6127258 ,  8.71234695],\n",
       "       [ 1.        ,  0.33509294,  1.66743298],\n",
       "       [ 1.        ,  4.85323578,  5.95697617],\n",
       "       [ 1.        ,  5.07840788,  7.66427374],\n",
       "       [ 1.        ,  0.68118058,  1.87546718],\n",
       "       [ 1.        ,  6.40674619,  8.75817059],\n",
       "       [ 1.        ,  1.26053454,  3.36084807],\n",
       "       [ 1.        ,  1.68984521,  2.0748052 ],\n",
       "       [ 1.        ,  1.01135781,  2.34230784],\n",
       "       [ 1.        ,  1.56336203,  3.41669444],\n",
       "       [ 1.        ,  5.18883777,  7.84474597],\n",
       "       [ 1.        ,  1.66150256,  1.79569478],\n",
       "       [ 1.        ,  5.60909404,  8.65876286],\n",
       "       [ 1.        ,  1.96232572,  1.55147111],\n",
       "       [ 1.        ,  1.48236345,  3.19766822],\n",
       "       [ 1.        ,  5.75803761,  7.81560411],\n",
       "       [ 1.        ,  6.10224275,  8.25002826],\n",
       "       [ 1.        ,  1.69892715,  2.33263885],\n",
       "       [ 1.        ,  4.62100212,  6.6153097 ],\n",
       "       [ 1.        ,  0.27607072,  1.01708917],\n",
       "       [ 1.        ,  0.51684739,  1.27608545],\n",
       "       [ 1.        ,  0.64402282,  2.90928759],\n",
       "       [ 1.        ,  5.49976703,  7.32033793],\n",
       "       [ 1.        ,  5.2270415 ,  8.84363009],\n",
       "       [ 1.        ,  5.3395669 ,  7.59671546],\n",
       "       [ 1.        ,  0.35612739,  1.10408823],\n",
       "       [ 1.        ,  0.98969559,  0.83627055],\n",
       "       [ 1.        ,  1.69375376,  3.7751361 ],\n",
       "       [ 1.        ,  5.58468576,  6.85645655],\n",
       "       [ 1.        ,  0.03023901,  1.87720742],\n",
       "       [ 1.        ,  0.45527762,  0.8212083 ],\n",
       "       [ 1.        ,  6.70657167,  7.17123737],\n",
       "       [ 1.        ,  1.77374595,  2.96772698],\n",
       "       [ 1.        ,  0.56666502,  3.18279924],\n",
       "       [ 1.        ,  1.1795654 ,  2.52876059],\n",
       "       [ 1.        ,  6.13536931,  9.30913174],\n",
       "       [ 1.        , -0.16473638,  1.33461282],\n",
       "       [ 1.        ,  6.82771637,  8.60867836],\n",
       "       [ 1.        ,  6.86159186,  8.43856446],\n",
       "       [ 1.        ,  5.90754831,  7.03596719],\n",
       "       [ 1.        ,  7.20554636,  9.03720431]])"
      ]
     },
     "execution_count": 89,
     "metadata": {},
     "output_type": "execute_result"
    }
   ],
   "source": [
    "X = np.hstack((np.ones((X.shape[0],1)), X))\n",
    "X"
   ]
  },
  {
   "cell_type": "code",
   "execution_count": 90,
   "metadata": {},
   "outputs": [
    {
     "data": {
      "text/plain": [
       "(200, 3)"
      ]
     },
     "execution_count": 90,
     "metadata": {},
     "output_type": "execute_result"
    }
   ],
   "source": [
    "X.shape"
   ]
  },
  {
   "cell_type": "code",
   "execution_count": 96,
   "metadata": {},
   "outputs": [
    {
     "name": "stdout",
     "output_type": "stream",
     "text": [
      "Iteration no 0 and cost 0.6931471805599452\n",
      "Iteration no 100 and cost 0.028160840233176908\n",
      "Iteration no 200 and cost 0.016133488212772773\n",
      "Iteration no 300 and cost 0.011591508382091194\n",
      "Iteration no 400 and cost 0.009169657549603838\n",
      "Iteration no 500 and cost 0.007650841115482801\n",
      "Iteration no 600 and cost 0.006603041767791226\n",
      "Iteration no 700 and cost 0.005833193910900338\n",
      "Iteration no 800 and cost 0.005241672554283376\n",
      "Iteration no 900 and cost 0.004771705098527797\n",
      "Iteration no 1000 and cost 0.004388490790272274\n",
      "Iteration no 1100 and cost 0.004069468614385641\n",
      "Iteration no 1200 and cost 0.0037993483842846\n",
      "Iteration no 1300 and cost 0.003567386607917526\n",
      "Iteration no 1400 and cost 0.0033658050203216184\n",
      "Iteration no 1500 and cost 0.0031888281849005613\n",
      "Iteration no 1600 and cost 0.0030320742341516053\n",
      "Iteration no 1700 and cost 0.002892155987700627\n",
      "Iteration no 1800 and cost 0.0027664121313537926\n",
      "Iteration no 1900 and cost 0.002652721421526959\n",
      "Iteration no 2000 and cost 0.0025493713939295243\n",
      "Iteration no 2100 and cost 0.002454963746718228\n",
      "Iteration no 2200 and cost 0.0023683449476553627\n",
      "Iteration no 2300 and cost 0.002288554533216223\n",
      "Iteration no 2400 and cost 0.002214786037485727\n",
      "Iteration no 2500 and cost 0.0021463570821115287\n",
      "Iteration no 2600 and cost 0.002082686208347542\n",
      "Iteration no 2700 and cost 0.00202327473710908\n",
      "Iteration no 2800 and cost 0.0019676924245571404\n",
      "Iteration no 2900 and cost 0.0019155660150404529\n",
      "Iteration no 3000 and cost 0.0018665700287083997\n",
      "Iteration no 3100 and cost 0.0018204192892309911\n",
      "Iteration no 3200 and cost 0.0017768628185993818\n",
      "Iteration no 3300 and cost 0.0017356788148636265\n",
      "Iteration no 3400 and cost 0.0016966704943707184\n",
      "Iteration no 3500 and cost 0.0016596626291304544\n",
      "Iteration no 3600 and cost 0.0016244986469195406\n",
      "Iteration no 3700 and cost 0.0015910381898581794\n",
      "Iteration no 3800 and cost 0.0015591550487577721\n",
      "Iteration no 3900 and cost 0.0015287354072025426\n"
     ]
    }
   ],
   "source": [
    "theta, err_list = gradient_descent(X, Y.reshape((-1,1)), lr=1.2, max_itr=4000)"
   ]
  },
  {
   "cell_type": "code",
   "execution_count": 98,
   "metadata": {},
   "outputs": [
    {
     "data": {
      "text/plain": [
       "array([[12.73514902],\n",
       "       [-2.21870554],\n",
       "       [-1.14645839]])"
      ]
     },
     "execution_count": 98,
     "metadata": {},
     "output_type": "execute_result"
    }
   ],
   "source": [
    "theta"
   ]
  },
  {
   "cell_type": "code",
   "execution_count": 99,
   "metadata": {},
   "outputs": [
    {
     "data": {
      "text/plain": [
       "[<matplotlib.lines.Line2D at 0x1be2e663fc8>]"
      ]
     },
     "execution_count": 99,
     "metadata": {},
     "output_type": "execute_result"
    },
    {
     "data": {
      "image/png": "[encoded data removed]",
      "text/plain": [
       "<Figure size 432x288 with 1 Axes>"
      ]
     },
     "metadata": {
      "needs_background": "light"
     },
     "output_type": "display_data"
    }
   ],
   "source": [
    "plt.plot(err_list)"
   ]
  },
  {
   "cell_type": "code",
   "execution_count": 100,
   "metadata": {},
   "outputs": [],
   "source": [
    "x_test = np.arange(10)\n",
    "x2 = -(theta[0] + theta[1] * x_test) / theta[2]"
   ]
  },
  {
   "cell_type": "code",
   "execution_count": 101,
   "metadata": {},
   "outputs": [
    {
     "data": {
      "text/plain": [
       "array([0, 1, 2, 3, 4, 5, 6, 7, 8, 9])"
      ]
     },
     "execution_count": 101,
     "metadata": {},
     "output_type": "execute_result"
    }
   ],
   "source": [
    "x_test"
   ]
  },
  {
   "cell_type": "code",
   "execution_count": 102,
   "metadata": {},
   "outputs": [
    {
     "data": {
      "text/plain": [
       "<matplotlib.collections.PathCollection at 0x1be2e7172c8>"
      ]
     },
     "execution_count": 102,
     "metadata": {},
     "output_type": "execute_result"
    },
    {
     "data": {
      "image/png": "[encoded data removed]",
      "text/plain": [
       "<Figure size 432x288 with 1 Axes>"
      ]
     },
     "metadata": {
      "needs_background": "light"
     },
     "output_type": "display_data"
    }
   ],
   "source": [
    "plt.ylim((-1,13))\n",
    "plt.plot(x_test,x2)\n",
    "plt.scatter(X1[:,0],X1[:,1])\n",
    "plt.scatter(X2[:,0],X2[:,1])"
   ]
  },
  {
   "cell_type": "markdown",
   "metadata": {},
   "source": [
    "# Using SkLearn"
   ]
  },
  {
   "cell_type": "code",
   "execution_count": 29,
   "metadata": {},
   "outputs": [],
   "source": [
    "from sklearn.datasets import load_breast_cancer"
   ]
  },
  {
   "cell_type": "code",
   "execution_count": 30,
   "metadata": {},
   "outputs": [],
   "source": [
    "cancer=load_breast_cancer()\n",
    "X=cancer.data\n",
    "Y=cancer.target"
   ]
  },
  {
   "cell_type": "code",
   "execution_count": 31,
   "metadata": {},
   "outputs": [
    {
     "data": {
      "text/plain": [
       "array(['mean radius', 'mean texture', 'mean perimeter', 'mean area',\n",
       "       'mean smoothness', 'mean compactness', 'mean concavity',\n",
       "       'mean concave points', 'mean symmetry', 'mean fractal dimension',\n",
       "       'radius error', 'texture error', 'perimeter error', 'area error',\n",
       "       'smoothness error', 'compactness error', 'concavity error',\n",
       "       'concave points error', 'symmetry error',\n",
       "       'fractal dimension error', 'worst radius', 'worst texture',\n",
       "       'worst perimeter', 'worst area', 'worst smoothness',\n",
       "       'worst compactness', 'worst concavity', 'worst concave points',\n",
       "       'worst symmetry', 'worst fractal dimension'], dtype='<U23')"
      ]
     },
     "execution_count": 31,
     "metadata": {},
     "output_type": "execute_result"
    }
   ],
   "source": [
    "cancer.feature_names"
   ]
  },
  {
   "cell_type": "code",
   "execution_count": 32,
   "metadata": {},
   "outputs": [],
   "source": [
    "from sklearn.linear_model import LogisticRegression\n",
    "from sklearn.model_selection import train_test_split"
   ]
  },
  {
   "cell_type": "code",
   "execution_count": 33,
   "metadata": {},
   "outputs": [],
   "source": [
    "X_train,X_test,Y_train,Y_test=train_test_split(X,Y,test_size=.2)"
   ]
  },
  {
   "cell_type": "code",
   "execution_count": 34,
   "metadata": {},
   "outputs": [],
   "source": [
    "lr=LogisticRegression()"
   ]
  },
  {
   "cell_type": "code",
   "execution_count": 35,
   "metadata": {},
   "outputs": [
    {
     "name": "stderr",
     "output_type": "stream",
     "text": [
      "c:\\users\\anish\\appdata\\local\\programs\\python\\python37\\lib\\site-packages\\sklearn\\linear_model\\_logistic.py:765: ConvergenceWarning: lbfgs failed to converge (status=1):\n",
      "STOP: TOTAL NO. of ITERATIONS REACHED LIMIT.\n",
      "\n",
      "Increase the number of iterations (max_iter) or scale the data as shown in:\n",
      "    https://scikit-learn.org/stable/modules/preprocessing.html\n",
      "Please also refer to the documentation for alternative solver options:\n",
      "    https://scikit-learn.org/stable/modules/linear_model.html#logistic-regression\n",
      "  extra_warning_msg=_LOGISTIC_SOLVER_CONVERGENCE_MSG)\n"
     ]
    },
    {
     "data": {
      "text/plain": [
       "LogisticRegression()"
      ]
     },
     "execution_count": 35,
     "metadata": {},
     "output_type": "execute_result"
    }
   ],
   "source": [
    "lr.fit(X_train,Y_train)"
   ]
  },
  {
   "cell_type": "code",
   "execution_count": 36,
   "metadata": {},
   "outputs": [
    {
     "data": {
      "text/plain": [
       "0.9649122807017544"
      ]
     },
     "execution_count": 36,
     "metadata": {},
     "output_type": "execute_result"
    }
   ],
   "source": [
    "lr.score(X_test,Y_test)"
   ]
  },
  {
   "cell_type": "code",
   "execution_count": 37,
   "metadata": {},
   "outputs": [
    {
     "data": {
      "text/plain": [
       "0.9649122807017544"
      ]
     },
     "execution_count": 37,
     "metadata": {},
     "output_type": "execute_result"
    }
   ],
   "source": [
    "Y_pred=lr.predict(X_test)\n",
    "(Y_pred==Y_test).mean()"
   ]
  },
  {
   "cell_type": "code",
   "execution_count": 38,
   "metadata": {},
   "outputs": [
    {
     "data": {
      "text/plain": [
       "110"
      ]
     },
     "execution_count": 38,
     "metadata": {},
     "output_type": "execute_result"
    }
   ],
   "source": [
    "(Y_pred == Y_test).sum()"
   ]
  },
  {
   "cell_type": "code",
   "execution_count": 39,
   "metadata": {},
   "outputs": [
    {
     "data": {
      "text/plain": [
       "(114,)"
      ]
     },
     "execution_count": 39,
     "metadata": {},
     "output_type": "execute_result"
    }
   ],
   "source": [
    "Y_pred.shape"
   ]
  },
  {
   "cell_type": "code",
   "execution_count": 40,
   "metadata": {},
   "outputs": [
    {
     "data": {
      "text/plain": [
       "array([[False,  True],\n",
       "       [False,  True],\n",
       "       [ True, False],\n",
       "       [False,  True],\n",
       "       [False,  True],\n",
       "       [False,  True],\n",
       "       [False,  True],\n",
       "       [False,  True],\n",
       "       [False,  True],\n",
       "       [ True, False],\n",
       "       [False,  True],\n",
       "       [False,  True],\n",
       "       [False,  True],\n",
       "       [False,  True],\n",
       "       [ True, False],\n",
       "       [ True, False],\n",
       "       [ True, False],\n",
       "       [False,  True],\n",
       "       [ True, False],\n",
       "       [False,  True],\n",
       "       [False,  True],\n",
       "       [False,  True],\n",
       "       [ True, False],\n",
       "       [ True, False],\n",
       "       [False,  True],\n",
       "       [ True, False],\n",
       "       [False,  True],\n",
       "       [ True, False],\n",
       "       [ True, False],\n",
       "       [False,  True],\n",
       "       [False,  True],\n",
       "       [False,  True],\n",
       "       [False,  True],\n",
       "       [ True, False],\n",
       "       [ True, False],\n",
       "       [False,  True],\n",
       "       [ True, False],\n",
       "       [False,  True],\n",
       "       [ True, False],\n",
       "       [False,  True],\n",
       "       [False,  True],\n",
       "       [False,  True],\n",
       "       [False,  True],\n",
       "       [False,  True],\n",
       "       [False,  True],\n",
       "       [ True, False],\n",
       "       [False, False],\n",
       "       [False,  True],\n",
       "       [False,  True],\n",
       "       [False,  True],\n",
       "       [False,  True],\n",
       "       [ True, False],\n",
       "       [ True, False],\n",
       "       [False,  True],\n",
       "       [False,  True],\n",
       "       [False,  True],\n",
       "       [False,  True],\n",
       "       [ True, False],\n",
       "       [False,  True],\n",
       "       [False,  True],\n",
       "       [ True, False],\n",
       "       [False,  True],\n",
       "       [False,  True],\n",
       "       [ True, False],\n",
       "       [ True, False],\n",
       "       [False,  True],\n",
       "       [ True, False],\n",
       "       [False,  True],\n",
       "       [ True, False],\n",
       "       [False,  True],\n",
       "       [ True, False],\n",
       "       [False,  True],\n",
       "       [False,  True],\n",
       "       [False,  True],\n",
       "       [False,  True],\n",
       "       [ True, False],\n",
       "       [False,  True],\n",
       "       [ True, False],\n",
       "       [False,  True],\n",
       "       [False,  True],\n",
       "       [ True, False],\n",
       "       [ True, False],\n",
       "       [False,  True],\n",
       "       [ True, False],\n",
       "       [False,  True],\n",
       "       [ True, False],\n",
       "       [False,  True],\n",
       "       [ True, False],\n",
       "       [ True, False],\n",
       "       [ True, False],\n",
       "       [False,  True],\n",
       "       [ True, False],\n",
       "       [ True, False],\n",
       "       [False,  True],\n",
       "       [False,  True],\n",
       "       [False,  True],\n",
       "       [False,  True],\n",
       "       [False,  True],\n",
       "       [False,  True],\n",
       "       [ True, False],\n",
       "       [ True, False],\n",
       "       [False,  True],\n",
       "       [ True, False],\n",
       "       [False,  True],\n",
       "       [ True, False],\n",
       "       [ True, False],\n",
       "       [False,  True],\n",
       "       [False,  True],\n",
       "       [ True, False],\n",
       "       [False,  True],\n",
       "       [False,  True],\n",
       "       [ True, False],\n",
       "       [False,  True],\n",
       "       [False,  True]])"
      ]
     },
     "execution_count": 40,
     "metadata": {},
     "output_type": "execute_result"
    }
   ],
   "source": [
    "lr.predict_proba(X_test)>.6"
   ]
  },
  {
   "cell_type": "code",
   "execution_count": 41,
   "metadata": {},
   "outputs": [],
   "source": [
    "from sklearn.metrics import confusion_matrix"
   ]
  },
  {
   "cell_type": "code",
   "execution_count": 43,
   "metadata": {},
   "outputs": [
    {
     "data": {
      "text/plain": [
       "array([[43,  4],\n",
       "       [ 0, 67]], dtype=int64)"
      ]
     },
     "execution_count": 43,
     "metadata": {},
     "output_type": "execute_result"
    }
   ],
   "source": [
    "matrix = confusion_matrix(Y_test,Y_pred)\n",
    "matrix"
   ]
  },
  {
   "cell_type": "code",
   "execution_count": null,
   "metadata": {},
   "outputs": [],
   "source": [
    "people_without_cacer_and_we_dont_predict_cancer = matrix[0][0]\n",
    "people_without_cacer_and_we_predict_cancer = matrix[0][1]\n",
    "people_with_cacer_and_we_predict_no_cancer = matrix[1][0]\n",
    "people_with_cacer_and_we_predict_no_cancer = matrix[1][1]"
   ]
  }
 ],
 "metadata": {
  "kernelspec": {
   "display_name": "Python 3",
   "language": "python",
   "name": "python3"
  },
  "language_info": {
   "codemirror_mode": {
    "name": "ipython",
    "version": 3
   },
   "file_extension": ".py",
   "mimetype": "text/x-python",
   "name": "python",
   "nbconvert_exporter": "python",
   "pygments_lexer": "ipython3",
   "version": "3.7.9"
  }
 },
 "nbformat": 4,
 "nbformat_minor": 2
}
